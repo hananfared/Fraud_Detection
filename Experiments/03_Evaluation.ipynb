{
 "cells": [
  {
   "cell_type": "markdown",
   "id": "78df6ed1",
   "metadata": {
    "id": "a42c30eb"
   },
   "source": [
    "# First dataset (Base.csv)"
   ]
  },
  {
   "cell_type": "markdown",
   "id": "c5f75018",
   "metadata": {
    "id": "ipH1yCZgTRVv"
   },
   "source": [
    "### Import Libraries"
   ]
  },
  {
   "cell_type": "code",
   "execution_count": 1,
   "id": "462bf550",
   "metadata": {
    "id": "5d724623",
    "outputId": "4400688a-eef7-4929-be6d-7d5bd563ba31"
   },
   "outputs": [
    {
     "name": "stdout",
     "output_type": "stream",
     "text": [
      "Requirement already satisfied: xgboost in /opt/conda/lib/python3.9/site-packages (1.7.6)\n",
      "Requirement already satisfied: numpy in /opt/conda/lib/python3.9/site-packages (from xgboost) (1.23.5)\n",
      "Requirement already satisfied: scipy in /opt/conda/lib/python3.9/site-packages (from xgboost) (1.9.1)\n"
     ]
    }
   ],
   "source": [
    "import numpy as np\n",
    "import pandas as pd\n",
    "import random\n",
    "from sklearn.decomposition import PCA\n",
    "from sklearn.ensemble import ExtraTreesClassifier\n",
    "from sklearn.model_selection import train_test_split\n",
    "from sklearn.metrics import confusion_matrix, roc_curve, auc, roc_auc_score\n",
    "from sklearn.metrics import accuracy_score, precision_score, recall_score, f1_score, classification_report, precision_recall_fscore_support\n",
    "from imblearn.combine import SMOTEENN\n",
    "import matplotlib.pyplot as plt\n",
    "import seaborn as sns\n",
    "from scipy import stats\n",
    "!pip install xgboost\n",
    "import xgboost as xgb\n",
    "from xgboost import XGBClassifier\n",
    "\n",
    "import random\n",
    "from sklearn.impute import SimpleImputer\n",
    "from imblearn.combine import SMOTEENN\n",
    "from imblearn.over_sampling import ADASYN\n",
    "from imblearn.over_sampling import RandomOverSampler\n",
    "from imblearn.over_sampling import SMOTE\n",
    "from imblearn.under_sampling import ClusterCentroids\n",
    "from imblearn.under_sampling import CondensedNearestNeighbour\n",
    "from imblearn.under_sampling import InstanceHardnessThreshold\n",
    "from imblearn.under_sampling import OneSidedSelection\n",
    "from imblearn.under_sampling import RandomUnderSampler\n",
    "from imblearn.under_sampling import TomekLinks\n",
    "from sklearn.model_selection import learning_curve\n",
    "from scipy import stats\n",
    "from sklearn.inspection import permutation_importance\n",
    "from sklearn.linear_model import LogisticRegression\n",
    "\n",
    "\n",
    "#Set Matplotlib options\n",
    "%matplotlib inline\n",
    "plt.style.use('ggplot')\n",
    "sns.set_style(\"whitegrid\")\n",
    "\n",
    "#Increase max Pandas columns\n",
    "pd.set_option('display.max_columns', 200)\n",
    "\n",
    "#Define color palette\n",
    "my_palette = sns.color_palette(\"Paired\", 2)\n",
    "\n",
    "# ignore FutureWarning\n",
    "import warnings\n",
    "warnings.simplefilter(action = 'ignore', category = FutureWarning)\n",
    "\n",
    "\n"
   ]
  },
  {
   "cell_type": "markdown",
   "id": "2171dc82",
   "metadata": {
    "id": "w-5Bo_WRTWAn"
   },
   "source": [
    "### Read dataset"
   ]
  },
  {
   "cell_type": "code",
   "execution_count": 2,
   "id": "a51c2383",
   "metadata": {
    "id": "68ec0f4f"
   },
   "outputs": [],
   "source": [
    "df = pd.read_csv('Fraud Detection/neurips-2022/Base.csv')"
   ]
  },
  {
   "cell_type": "markdown",
   "id": "b0f2af8b",
   "metadata": {
    "id": "bUB17lfqTZf_"
   },
   "source": [
    "### Preprocessing"
   ]
  },
  {
   "cell_type": "code",
   "execution_count": 3,
   "id": "6170282e",
   "metadata": {
    "id": "6510be0c",
    "outputId": "aa0c1edd-0690-40eb-9bce-b592521f5d1a"
   },
   "outputs": [
    {
     "data": {
      "text/plain": [
       "['fraud_bool',\n",
       " 'income',\n",
       " 'name_email_similarity',\n",
       " 'prev_address_months_count',\n",
       " 'current_address_months_count',\n",
       " 'customer_age',\n",
       " 'days_since_request',\n",
       " 'intended_balcon_amount',\n",
       " 'zip_count_4w',\n",
       " 'velocity_6h',\n",
       " 'velocity_24h',\n",
       " 'velocity_4w',\n",
       " 'bank_branch_count_8w',\n",
       " 'date_of_birth_distinct_emails_4w',\n",
       " 'credit_risk_score',\n",
       " 'email_is_free',\n",
       " 'phone_home_valid',\n",
       " 'phone_mobile_valid',\n",
       " 'bank_months_count',\n",
       " 'has_other_cards',\n",
       " 'proposed_credit_limit',\n",
       " 'foreign_request',\n",
       " 'session_length_in_minutes',\n",
       " 'keep_alive_session',\n",
       " 'device_distinct_emails_8w',\n",
       " 'device_fraud_count',\n",
       " 'month']"
      ]
     },
     "execution_count": 3,
     "metadata": {},
     "output_type": "execute_result"
    }
   ],
   "source": [
    "numerical_features = []\n",
    "\n",
    "for col in df.columns:\n",
    "    if df[col].dtypes =='float64' or df[col].dtypes =='int64':\n",
    "        numerical_features.append(col)\n",
    "\n",
    "numerical_features"
   ]
  },
  {
   "cell_type": "code",
   "execution_count": 4,
   "id": "5a6cc805",
   "metadata": {
    "id": "258b0df9"
   },
   "outputs": [],
   "source": [
    "# Columns with missing values\n",
    "cols = ['prev_address_months_count',\n",
    "'current_address_months_count',\n",
    "'bank_months_count',\n",
    "'session_length_in_minutes',\n",
    "'device_distinct_emails_8w']\n",
    "\n",
    "# Replace -1 with NULL\n",
    "for col in cols:\n",
    "    df[col] = df[col].replace(-1, np.nan)\n",
    "\n",
    "# Replace any other missing representations with NULL\n",
    "for col in cols:\n",
    "    df[col] = df[col].replace(['NA', '()', 'none'], np.nan, regex=True)"
   ]
  },
  {
   "cell_type": "code",
   "execution_count": 5,
   "id": "bdd37192",
   "metadata": {
    "id": "14f21a8a"
   },
   "outputs": [],
   "source": [
    "# Replace negative values with NULL\n",
    "df['intended_balcon_amount'] = df['intended_balcon_amount'].replace([-16,-15,-14,-13,-12,-11,-10,-9,-8,-7,-6,-5,-4,-3,-2,-1], np.nan)"
   ]
  },
  {
   "cell_type": "code",
   "execution_count": 6,
   "id": "16035635",
   "metadata": {
    "id": "b09c2f98"
   },
   "outputs": [],
   "source": [
    "# Columns with missing values\n",
    "cols = ['prev_address_months_count',\n",
    "'current_address_months_count',\n",
    "'bank_months_count',\n",
    "'session_length_in_minutes',\n",
    "'device_distinct_emails_8w'\n",
    "]\n",
    "\n",
    "# Median imputer\n",
    "imputer = SimpleImputer(strategy=\"median\")\n",
    "\n",
    "# Fit imputer on each column\n",
    "for col in cols:\n",
    "    imputer = imputer.fit(df[col].values.reshape(-1,1))\n",
    "\n",
    "# Transform data (impute nulls)\n",
    "for col in cols:\n",
    "    df[col] = imputer.transform(df[col].values.reshape(-1,1))"
   ]
  },
  {
   "cell_type": "code",
   "execution_count": 7,
   "id": "207fdb0d",
   "metadata": {
    "id": "fb90b0db"
   },
   "outputs": [],
   "source": [
    "df_dumm = pd.get_dummies(df) # one hot encoding"
   ]
  },
  {
   "cell_type": "code",
   "execution_count": 8,
   "id": "fbc81b0f",
   "metadata": {
    "id": "6e898cd2"
   },
   "outputs": [],
   "source": [
    "# Take log of columns\n",
    "df_dumm['proposed_credit_limit'] = np.log(df_dumm['proposed_credit_limit'])\n",
    "df_dumm['days_since_request'] = np.log(df_dumm['days_since_request'])\n",
    "df_dumm['zip_count_4w'] = np.log(df_dumm['zip_count_4w'])"
   ]
  },
  {
   "cell_type": "code",
   "execution_count": 9,
   "id": "992cd3fb",
   "metadata": {
    "id": "81a9ba0f"
   },
   "outputs": [],
   "source": [
    "dataset_2 = df_dumm.drop(columns='fraud_bool')"
   ]
  },
  {
   "cell_type": "code",
   "execution_count": 10,
   "id": "cc23c523",
   "metadata": {
    "id": "940c2e46",
    "outputId": "70dc1e7e-6e9f-4738-85a8-9a97641ec2c3"
   },
   "outputs": [
    {
     "name": "stdout",
     "output_type": "stream",
     "text": [
      "fraud_bool\n",
      "0    0.989032\n",
      "1    0.010968\n",
      "Name: count, dtype: float64\n"
     ]
    }
   ],
   "source": [
    "# Identify features (X) and target (y)\n",
    "X = df_dumm.drop('fraud_bool', axis=1)\n",
    "y = df_dumm['fraud_bool']\n",
    "\n",
    "# Split into train and test\n",
    "X_train, X_test, y_train, y_test = train_test_split(X, y)\n",
    "\n",
    "# Check class distribution in training set\n",
    "print(y_train.value_counts()/len(y_train))"
   ]
  },
  {
   "cell_type": "code",
   "execution_count": 11,
   "id": "1b7864ac",
   "metadata": {
    "id": "451232a7"
   },
   "outputs": [
    {
     "name": "stdout",
     "output_type": "stream",
     "text": [
      "fraud_bool\n",
      "1    0.533585\n",
      "0    0.466415\n",
      "Name: count, dtype: float64\n"
     ]
    },
    {
     "name": "stderr",
     "output_type": "stream",
     "text": [
      "/opt/conda/lib/python3.9/site-packages/sklearn/linear_model/_logistic.py:458: ConvergenceWarning: lbfgs failed to converge (status=1):\n",
      "STOP: TOTAL NO. of ITERATIONS REACHED LIMIT.\n",
      "\n",
      "Increase the number of iterations (max_iter) or scale the data as shown in:\n",
      "    https://scikit-learn.org/stable/modules/preprocessing.html\n",
      "Please also refer to the documentation for alternative solver options:\n",
      "    https://scikit-learn.org/stable/modules/linear_model.html#logistic-regression\n",
      "  n_iter_i = _check_optimize_result(\n"
     ]
    },
    {
     "data": {
      "text/plain": [
       "'              precision    recall  f1-score   support\\n\\n           0       0.99      0.61      0.76    247197\\n           1       0.02      0.72      0.04      2803\\n\\n    accuracy                           0.61    250000\\n   macro avg       0.51      0.67      0.40    250000\\nweighted avg       0.98      0.61      0.75    250000\\n'"
      ]
     },
     "execution_count": 11,
     "metadata": {},
     "output_type": "execute_result"
    }
   ],
   "source": [
    "#Instantiate oversampler and logistic regression model\n",
    "randomover = RandomOverSampler(random_state=42)\n",
    "log_reg = LogisticRegression()\n",
    "\n",
    "# Instantiate samplers\n",
    "enn = SMOTEENN(random_state=42)\n",
    "\n",
    "# Apply ENN cleaning\n",
    "X_train_enn, y_train_enn = enn.fit_resample(X_train, y_train)\n",
    "\n",
    "# Check the new class distribution\n",
    "print(y_train_enn.value_counts()/len(y_train_enn))\n",
    "\n",
    "# Train a model using the oversampled training data\n",
    "log_reg.fit(X_train_enn, y_train_enn)\n",
    "\n",
    "# Make predictions on test set\n",
    "y_pred = log_reg.predict(X_test)\n",
    "\n",
    "# Generate classification report\n",
    "report = classification_report(y_test, y_pred)\n",
    "report"
   ]
  },
  {
   "cell_type": "code",
   "execution_count": 12,
   "id": "45b0e270",
   "metadata": {
    "id": "8ba47fcd"
   },
   "outputs": [
    {
     "name": "stdout",
     "output_type": "stream",
     "text": [
      "Accuracy: 0.612264\n",
      "Precision: 0.02060564083237418\n",
      "Recall: 0.7217267213699607\n",
      "F1 Score: 0.04006734006734007\n"
     ]
    }
   ],
   "source": [
    "accuracy_SMOTEENN = accuracy_score(y_test, y_pred)\n",
    "print(f\"Accuracy: {accuracy_SMOTEENN}\")\n",
    "\n",
    "precision_SMOTEENN = precision_score(y_test, y_pred)\n",
    "print(f\"Precision: {precision_SMOTEENN}\")\n",
    "\n",
    "recall_SMOTEENN = recall_score(y_test, y_pred)\n",
    "print(f\"Recall: {recall_SMOTEENN}\")\n",
    "\n",
    "f1_SMOTEENN = f1_score(y_test, y_pred)\n",
    "print(f\"F1 Score: {f1_SMOTEENN}\")"
   ]
  },
  {
   "cell_type": "code",
   "execution_count": 17,
   "id": "cfb046db",
   "metadata": {},
   "outputs": [],
   "source": [
    "# #Feature selection using SMOTE Sampling\n",
    "# model = ExtraTreesClassifier()\n",
    "# model.fit(X_train_enn, y_train_enn)\n",
    "# # Make predictions on the test set\n",
    "# y_pred = model.predict(X_test)\n"
   ]
  },
  {
   "cell_type": "code",
   "execution_count": 18,
   "id": "03a27dc1",
   "metadata": {
    "id": "e29047d0"
   },
   "outputs": [],
   "source": [
    "# #select the top 25 features\n",
    "# importances = model.feature_importances_\n",
    "# n_features = 25\n",
    "# feature_indices = np.argsort(importances)[::-1][:n_features]\n",
    "# selected_features = [X.columns[i] for i in feature_indices]"
   ]
  },
  {
   "cell_type": "code",
   "execution_count": 19,
   "id": "fa39ebe4",
   "metadata": {},
   "outputs": [],
   "source": [
    "# Get the top 25 important features\n",
    "selected_features =['housing_status_BA',\n",
    " 'device_os_windows',\n",
    " 'keep_alive_session',\n",
    " 'phone_home_valid',\n",
    " 'payment_type_AC',\n",
    " 'has_other_cards',\n",
    " 'payment_type_AB',\n",
    " 'employment_status_CA',\n",
    " 'device_os_other',\n",
    " 'device_os_linux',\n",
    " 'housing_status_BC',\n",
    " 'housing_status_BB',\n",
    " 'payment_type_AA',\n",
    " 'payment_type_AD',\n",
    " 'proposed_credit_limit',\n",
    " 'employment_status_CC',\n",
    " 'phone_mobile_valid',\n",
    " 'employment_status_CB',\n",
    " 'income',\n",
    " 'customer_age',\n",
    " 'device_os_macintosh',\n",
    " 'housing_status_BE',\n",
    " 'current_address_months_count',\n",
    " 'bank_months_count',\n",
    " 'credit_risk_score']"
   ]
  },
  {
   "cell_type": "code",
   "execution_count": 21,
   "id": "f7fa8d08",
   "metadata": {
    "id": "bc076ebf"
   },
   "outputs": [
    {
     "name": "stdout",
     "output_type": "stream",
     "text": [
      "25\n"
     ]
    }
   ],
   "source": [
    "# Create a PCA model and fit it to the selected features\n",
    "pca = PCA()\n",
    "pca.fit(X[selected_features])\n",
    "\n",
    "# Transform the selected features using the fitted PCA model\n",
    "X_reduced = pca.transform(X[selected_features])\n",
    "\n",
    "# Get the proportion of variance explained\n",
    "var_exp = pca.explained_variance_ratio_\n",
    "\n",
    "# Print the number of dimensions after reduction\n",
    "print(X_reduced.shape[1])"
   ]
  },
  {
   "cell_type": "code",
   "execution_count": 22,
   "id": "82859919",
   "metadata": {
    "id": "47e8dde9"
   },
   "outputs": [],
   "source": [
    "pca = PCA(n_components=15)\n",
    "X_reduced = pca.fit_transform(X)"
   ]
  },
  {
   "cell_type": "code",
   "execution_count": 23,
   "id": "aa9777e7",
   "metadata": {
    "id": "efcba707"
   },
   "outputs": [
    {
     "name": "stdout",
     "output_type": "stream",
     "text": [
      "Accuracy: 1.0\n",
      "Precision: [1. 1.]\n",
      "Recall: [1. 1.]\n",
      "F1 Score: [1. 1.]\n"
     ]
    }
   ],
   "source": [
    "model = ExtraTreesClassifier()\n",
    "model.fit(X_reduced, y)\n",
    "# Make predictions on the test set\n",
    "y_pred = model.predict(X_reduced)\n",
    "\n",
    "# Calculate accuracy\n",
    "accuracy = accuracy_score(y, y_pred)\n",
    "\n",
    "# Calculate precision, recall, f1 score\n",
    "prec, rec, fscore, sup = precision_recall_fscore_support(y, y_pred)\n",
    "\n",
    "print(\"Accuracy: {}\".format(accuracy))\n",
    "print(\"Precision: {}\".format(prec))\n",
    "print(\"Recall: {}\".format(rec))\n",
    "print(\"F1 Score: {}\".format(fscore))"
   ]
  },
  {
   "cell_type": "code",
   "execution_count": 24,
   "id": "efa75a0f",
   "metadata": {
    "id": "3Y2t0oahZU_R"
   },
   "outputs": [
    {
     "data": {
      "text/html": [
       "<style>#sk-container-id-1 {color: black;background-color: white;}#sk-container-id-1 pre{padding: 0;}#sk-container-id-1 div.sk-toggleable {background-color: white;}#sk-container-id-1 label.sk-toggleable__label {cursor: pointer;display: block;width: 100%;margin-bottom: 0;padding: 0.3em;box-sizing: border-box;text-align: center;}#sk-container-id-1 label.sk-toggleable__label-arrow:before {content: \"▸\";float: left;margin-right: 0.25em;color: #696969;}#sk-container-id-1 label.sk-toggleable__label-arrow:hover:before {color: black;}#sk-container-id-1 div.sk-estimator:hover label.sk-toggleable__label-arrow:before {color: black;}#sk-container-id-1 div.sk-toggleable__content {max-height: 0;max-width: 0;overflow: hidden;text-align: left;background-color: #f0f8ff;}#sk-container-id-1 div.sk-toggleable__content pre {margin: 0.2em;color: black;border-radius: 0.25em;background-color: #f0f8ff;}#sk-container-id-1 input.sk-toggleable__control:checked~div.sk-toggleable__content {max-height: 200px;max-width: 100%;overflow: auto;}#sk-container-id-1 input.sk-toggleable__control:checked~label.sk-toggleable__label-arrow:before {content: \"▾\";}#sk-container-id-1 div.sk-estimator input.sk-toggleable__control:checked~label.sk-toggleable__label {background-color: #d4ebff;}#sk-container-id-1 div.sk-label input.sk-toggleable__control:checked~label.sk-toggleable__label {background-color: #d4ebff;}#sk-container-id-1 input.sk-hidden--visually {border: 0;clip: rect(1px 1px 1px 1px);clip: rect(1px, 1px, 1px, 1px);height: 1px;margin: -1px;overflow: hidden;padding: 0;position: absolute;width: 1px;}#sk-container-id-1 div.sk-estimator {font-family: monospace;background-color: #f0f8ff;border: 1px dotted black;border-radius: 0.25em;box-sizing: border-box;margin-bottom: 0.5em;}#sk-container-id-1 div.sk-estimator:hover {background-color: #d4ebff;}#sk-container-id-1 div.sk-parallel-item::after {content: \"\";width: 100%;border-bottom: 1px solid gray;flex-grow: 1;}#sk-container-id-1 div.sk-label:hover label.sk-toggleable__label {background-color: #d4ebff;}#sk-container-id-1 div.sk-serial::before {content: \"\";position: absolute;border-left: 1px solid gray;box-sizing: border-box;top: 0;bottom: 0;left: 50%;z-index: 0;}#sk-container-id-1 div.sk-serial {display: flex;flex-direction: column;align-items: center;background-color: white;padding-right: 0.2em;padding-left: 0.2em;position: relative;}#sk-container-id-1 div.sk-item {position: relative;z-index: 1;}#sk-container-id-1 div.sk-parallel {display: flex;align-items: stretch;justify-content: center;background-color: white;position: relative;}#sk-container-id-1 div.sk-item::before, #sk-container-id-1 div.sk-parallel-item::before {content: \"\";position: absolute;border-left: 1px solid gray;box-sizing: border-box;top: 0;bottom: 0;left: 50%;z-index: -1;}#sk-container-id-1 div.sk-parallel-item {display: flex;flex-direction: column;z-index: 1;position: relative;background-color: white;}#sk-container-id-1 div.sk-parallel-item:first-child::after {align-self: flex-end;width: 50%;}#sk-container-id-1 div.sk-parallel-item:last-child::after {align-self: flex-start;width: 50%;}#sk-container-id-1 div.sk-parallel-item:only-child::after {width: 0;}#sk-container-id-1 div.sk-dashed-wrapped {border: 1px dashed gray;margin: 0 0.4em 0.5em 0.4em;box-sizing: border-box;padding-bottom: 0.4em;background-color: white;}#sk-container-id-1 div.sk-label label {font-family: monospace;font-weight: bold;display: inline-block;line-height: 1.2em;}#sk-container-id-1 div.sk-label-container {text-align: center;}#sk-container-id-1 div.sk-container {/* jupyter's `normalize.less` sets `[hidden] { display: none; }` but bootstrap.min.css set `[hidden] { display: none !important; }` so we also need the `!important` here to be able to override the default hidden behavior on the sphinx rendered scikit-learn.org. See: https://github.com/scikit-learn/scikit-learn/issues/21755 */display: inline-block !important;position: relative;}#sk-container-id-1 div.sk-text-repr-fallback {display: none;}</style><div id=\"sk-container-id-1\" class=\"sk-top-container\"><div class=\"sk-text-repr-fallback\"><pre>XGBClassifier(base_score=None, booster=None, callbacks=None,\n",
       "              colsample_bylevel=None, colsample_bynode=None,\n",
       "              colsample_bytree=None, early_stopping_rounds=None,\n",
       "              enable_categorical=False, eval_metric=None, feature_types=None,\n",
       "              gamma=None, gpu_id=0, grow_policy=None, importance_type=None,\n",
       "              interaction_constraints=None, learning_rate=None, max_bin=None,\n",
       "              max_cat_threshold=None, max_cat_to_onehot=None,\n",
       "              max_delta_step=None, max_depth=None, max_leaves=None,\n",
       "              min_child_weight=None, missing=nan, monotone_constraints=None,\n",
       "              n_estimators=100, n_jobs=None, num_parallel_tree=None,\n",
       "              predictor=None, random_state=None, ...)</pre><b>In a Jupyter environment, please rerun this cell to show the HTML representation or trust the notebook. <br />On GitHub, the HTML representation is unable to render, please try loading this page with nbviewer.org.</b></div><div class=\"sk-container\" hidden><div class=\"sk-item\"><div class=\"sk-estimator sk-toggleable\"><input class=\"sk-toggleable__control sk-hidden--visually\" id=\"sk-estimator-id-1\" type=\"checkbox\" checked><label for=\"sk-estimator-id-1\" class=\"sk-toggleable__label sk-toggleable__label-arrow\">XGBClassifier</label><div class=\"sk-toggleable__content\"><pre>XGBClassifier(base_score=None, booster=None, callbacks=None,\n",
       "              colsample_bylevel=None, colsample_bynode=None,\n",
       "              colsample_bytree=None, early_stopping_rounds=None,\n",
       "              enable_categorical=False, eval_metric=None, feature_types=None,\n",
       "              gamma=None, gpu_id=0, grow_policy=None, importance_type=None,\n",
       "              interaction_constraints=None, learning_rate=None, max_bin=None,\n",
       "              max_cat_threshold=None, max_cat_to_onehot=None,\n",
       "              max_delta_step=None, max_depth=None, max_leaves=None,\n",
       "              min_child_weight=None, missing=nan, monotone_constraints=None,\n",
       "              n_estimators=100, n_jobs=None, num_parallel_tree=None,\n",
       "              predictor=None, random_state=None, ...)</pre></div></div></div></div></div>"
      ],
      "text/plain": [
       "XGBClassifier(base_score=None, booster=None, callbacks=None,\n",
       "              colsample_bylevel=None, colsample_bynode=None,\n",
       "              colsample_bytree=None, early_stopping_rounds=None,\n",
       "              enable_categorical=False, eval_metric=None, feature_types=None,\n",
       "              gamma=None, gpu_id=0, grow_policy=None, importance_type=None,\n",
       "              interaction_constraints=None, learning_rate=None, max_bin=None,\n",
       "              max_cat_threshold=None, max_cat_to_onehot=None,\n",
       "              max_delta_step=None, max_depth=None, max_leaves=None,\n",
       "              min_child_weight=None, missing=nan, monotone_constraints=None,\n",
       "              n_estimators=100, n_jobs=None, num_parallel_tree=None,\n",
       "              predictor=None, random_state=None, ...)"
      ]
     },
     "execution_count": 24,
     "metadata": {},
     "output_type": "execute_result"
    }
   ],
   "source": [
    "model = xgb.XGBClassifier(\n",
    "    tree_method='approx', gpu_id=0,\n",
    "    scale_pos_weight=1\n",
    ")\n",
    "model.fit(X_reduced, y)"
   ]
  },
  {
   "cell_type": "code",
   "execution_count": 25,
   "id": "dcb1a4a9",
   "metadata": {
    "id": "DC_lFhnvaBpl"
   },
   "outputs": [
    {
     "name": "stdout",
     "output_type": "stream",
     "text": [
      "Accuracy: 0.989188\n",
      "Precision: [0.98920229 0.93227092]\n",
      "Recall: [0.99998281 0.02121679]\n",
      "F1 Score: [0.99456334 0.04148936]\n"
     ]
    }
   ],
   "source": [
    "# Make predictions on the test set\n",
    "y_pred = model.predict(X_reduced)\n",
    "\n",
    "# Calculate accuracy\n",
    "accuracy = accuracy_score(y, y_pred)\n",
    "\n",
    "# Calculate precision, recall, f1 score\n",
    "prec, rec, fscore, sup = precision_recall_fscore_support(y, y_pred)\n",
    "\n",
    "print(\"Accuracy: {}\".format(accuracy))\n",
    "print(\"Precision: {}\".format(prec))\n",
    "print(\"Recall: {}\".format(rec))\n",
    "print(\"F1 Score: {}\".format(fscore))"
   ]
  },
  {
   "cell_type": "markdown",
   "id": "418f8824",
   "metadata": {
    "id": "f16523be"
   },
   "source": [
    "# Second dataset (Variant 1)"
   ]
  },
  {
   "cell_type": "markdown",
   "id": "f95c6264",
   "metadata": {
    "id": "XWlAVTv9XQLH"
   },
   "source": [
    "### Read dataset"
   ]
  },
  {
   "cell_type": "code",
   "execution_count": 27,
   "id": "9e456c6e",
   "metadata": {
    "id": "cT5sOhhxXQLH"
   },
   "outputs": [],
   "source": [
    "df_1 = pd.read_csv('Fraud Detection/neurips-2022/Variant I.csv')"
   ]
  },
  {
   "cell_type": "markdown",
   "id": "deb64dd3",
   "metadata": {
    "id": "l4RmH1PFXQLI"
   },
   "source": [
    "### Preprocessing"
   ]
  },
  {
   "cell_type": "code",
   "execution_count": 28,
   "id": "19c6bf71",
   "metadata": {
    "id": "EFj-SkWeXQLI",
    "outputId": "aa0c1edd-0690-40eb-9bce-b592521f5d1a"
   },
   "outputs": [
    {
     "data": {
      "text/plain": [
       "['fraud_bool',\n",
       " 'income',\n",
       " 'name_email_similarity',\n",
       " 'prev_address_months_count',\n",
       " 'current_address_months_count',\n",
       " 'customer_age',\n",
       " 'days_since_request',\n",
       " 'intended_balcon_amount',\n",
       " 'zip_count_4w',\n",
       " 'velocity_6h',\n",
       " 'velocity_24h',\n",
       " 'velocity_4w',\n",
       " 'bank_branch_count_8w',\n",
       " 'date_of_birth_distinct_emails_4w',\n",
       " 'credit_risk_score',\n",
       " 'email_is_free',\n",
       " 'phone_home_valid',\n",
       " 'phone_mobile_valid',\n",
       " 'bank_months_count',\n",
       " 'has_other_cards',\n",
       " 'proposed_credit_limit',\n",
       " 'foreign_request',\n",
       " 'session_length_in_minutes',\n",
       " 'keep_alive_session',\n",
       " 'device_distinct_emails_8w',\n",
       " 'device_fraud_count',\n",
       " 'month']"
      ]
     },
     "execution_count": 28,
     "metadata": {},
     "output_type": "execute_result"
    }
   ],
   "source": [
    "numerical_features = []\n",
    "\n",
    "for col in df_1.columns:\n",
    "    if df_1[col].dtypes =='float64' or df_1[col].dtypes =='int64':\n",
    "        numerical_features.append(col)\n",
    "\n",
    "numerical_features"
   ]
  },
  {
   "cell_type": "code",
   "execution_count": 29,
   "id": "29c26f98",
   "metadata": {
    "id": "wHzrilBCXQLI"
   },
   "outputs": [],
   "source": [
    "# Columns with missing values\n",
    "cols = ['prev_address_months_count',\n",
    "'current_address_months_count',\n",
    "'bank_months_count',\n",
    "'session_length_in_minutes',\n",
    "'device_distinct_emails_8w']\n",
    "\n",
    "# Replace -1 with NULL\n",
    "for col in cols:\n",
    "    df_1[col] = df_1[col].replace(-1, np.nan)\n",
    "\n",
    "# Replace any other missing representations with NULL\n",
    "for col in cols:\n",
    "    df_1[col] = df_1[col].replace(['NA', '()', 'none'], np.nan, regex=True)"
   ]
  },
  {
   "cell_type": "code",
   "execution_count": 30,
   "id": "46bc21b8",
   "metadata": {
    "id": "kOBoDM9xXQLI"
   },
   "outputs": [],
   "source": [
    "# Replace negative values with NULL\n",
    "df_1['intended_balcon_amount'] = df_1['intended_balcon_amount'].replace([-16,-15,-14,-13,-12,-11,-10,-9,-8,-7,-6,-5,-4,-3,-2,-1], np.nan)"
   ]
  },
  {
   "cell_type": "code",
   "execution_count": 31,
   "id": "db1c55df",
   "metadata": {
    "id": "n8srsH3UXQLI"
   },
   "outputs": [],
   "source": [
    "# Columns with missing values\n",
    "cols = ['prev_address_months_count',\n",
    "'current_address_months_count',\n",
    "'bank_months_count',\n",
    "'session_length_in_minutes',\n",
    "'device_distinct_emails_8w'\n",
    "]\n",
    "\n",
    "# Median imputer\n",
    "imputer = SimpleImputer(strategy=\"median\")\n",
    "\n",
    "# Fit imputer on each column\n",
    "for col in cols:\n",
    "    imputer = imputer.fit(df_1[col].values.reshape(-1,1))\n",
    "\n",
    "# Transform data (impute nulls)\n",
    "for col in cols:\n",
    "    df_1[col] = imputer.transform(df_1[col].values.reshape(-1,1))"
   ]
  },
  {
   "cell_type": "code",
   "execution_count": 32,
   "id": "de453df8",
   "metadata": {
    "id": "tDYmSNneXQLI"
   },
   "outputs": [],
   "source": [
    "df_dumm = pd.get_dummies(df_1) # one hot encoding"
   ]
  },
  {
   "cell_type": "code",
   "execution_count": 33,
   "id": "ae08874c",
   "metadata": {
    "id": "OanlHKayXQLI"
   },
   "outputs": [],
   "source": [
    "# Take log of columns\n",
    "df_dumm['proposed_credit_limit'] = np.log(df_dumm['proposed_credit_limit'])\n",
    "df_dumm['days_since_request'] = np.log(df_dumm['days_since_request'])\n",
    "df_dumm['zip_count_4w'] = np.log(df_dumm['zip_count_4w'])"
   ]
  },
  {
   "cell_type": "code",
   "execution_count": 34,
   "id": "5e19d0dd",
   "metadata": {
    "id": "9Hs9SSjvXQLI"
   },
   "outputs": [],
   "source": [
    "dataset_2 = df_dumm.drop(columns='fraud_bool')"
   ]
  },
  {
   "cell_type": "code",
   "execution_count": 35,
   "id": "ede131d1",
   "metadata": {
    "id": "utm9QlPQXQLJ",
    "outputId": "70dc1e7e-6e9f-4738-85a8-9a97641ec2c3"
   },
   "outputs": [
    {
     "name": "stdout",
     "output_type": "stream",
     "text": [
      "fraud_bool\n",
      "0    0.989036\n",
      "1    0.010964\n",
      "Name: count, dtype: float64\n"
     ]
    }
   ],
   "source": [
    "# Identify features (X) and target (y)\n",
    "X = df_dumm.drop('fraud_bool', axis=1)\n",
    "y = df_dumm['fraud_bool']\n",
    "\n",
    "# Split into train and test\n",
    "X_train, X_test, y_train, y_test = train_test_split(X, y)\n",
    "\n",
    "# Check class distribution in training set\n",
    "print(y_train.value_counts()/len(y_train))"
   ]
  },
  {
   "cell_type": "code",
   "execution_count": 36,
   "id": "e8472b31",
   "metadata": {
    "id": "L19HZLzLXQLJ"
   },
   "outputs": [
    {
     "name": "stdout",
     "output_type": "stream",
     "text": [
      "fraud_bool\n",
      "1    0.534584\n",
      "0    0.465416\n",
      "Name: count, dtype: float64\n"
     ]
    },
    {
     "name": "stderr",
     "output_type": "stream",
     "text": [
      "/opt/conda/lib/python3.9/site-packages/sklearn/linear_model/_logistic.py:458: ConvergenceWarning: lbfgs failed to converge (status=1):\n",
      "STOP: TOTAL NO. of ITERATIONS REACHED LIMIT.\n",
      "\n",
      "Increase the number of iterations (max_iter) or scale the data as shown in:\n",
      "    https://scikit-learn.org/stable/modules/preprocessing.html\n",
      "Please also refer to the documentation for alternative solver options:\n",
      "    https://scikit-learn.org/stable/modules/linear_model.html#logistic-regression\n",
      "  n_iter_i = _check_optimize_result(\n"
     ]
    },
    {
     "data": {
      "text/plain": [
       "'              precision    recall  f1-score   support\\n\\n           0       0.99      0.53      0.70    247194\\n           1       0.02      0.73      0.03      2806\\n\\n    accuracy                           0.54    250000\\n   macro avg       0.51      0.63      0.36    250000\\nweighted avg       0.98      0.54      0.69    250000\\n'"
      ]
     },
     "execution_count": 36,
     "metadata": {},
     "output_type": "execute_result"
    }
   ],
   "source": [
    "#Instantiate oversampler and logistic regression model\n",
    "randomover = RandomOverSampler(random_state=42)\n",
    "log_reg = LogisticRegression()\n",
    "\n",
    "# Instantiate samplers\n",
    "enn = SMOTEENN(random_state=42)\n",
    "\n",
    "# Apply ENN cleaning\n",
    "X_train_enn, y_train_enn = enn.fit_resample(X_train, y_train)\n",
    "\n",
    "# Check the new class distribution\n",
    "print(y_train_enn.value_counts()/len(y_train_enn))\n",
    "\n",
    "# Train a model using the oversampled training data\n",
    "log_reg.fit(X_train_enn, y_train_enn)\n",
    "\n",
    "# Make predictions on test set\n",
    "y_pred = log_reg.predict(X_test)\n",
    "\n",
    "# Generate classification report\n",
    "report = classification_report(y_test, y_pred)\n",
    "report"
   ]
  },
  {
   "cell_type": "code",
   "execution_count": 37,
   "id": "f0372b2b",
   "metadata": {
    "id": "mPYSdHW8XQLJ"
   },
   "outputs": [
    {
     "name": "stdout",
     "output_type": "stream",
     "text": [
      "Accuracy: 0.536392\n",
      "Precision: 0.017450890038059153\n",
      "Recall: 0.7287954383464006\n",
      "F1 Score: 0.034085605707047134\n"
     ]
    }
   ],
   "source": [
    "accuracy_SMOTEENN = accuracy_score(y_test, y_pred)\n",
    "print(f\"Accuracy: {accuracy_SMOTEENN}\")\n",
    "\n",
    "precision_SMOTEENN = precision_score(y_test, y_pred)\n",
    "print(f\"Precision: {precision_SMOTEENN}\")\n",
    "\n",
    "recall_SMOTEENN = recall_score(y_test, y_pred)\n",
    "print(f\"Recall: {recall_SMOTEENN}\")\n",
    "\n",
    "f1_SMOTEENN = f1_score(y_test, y_pred)\n",
    "print(f\"F1 Score: {f1_SMOTEENN}\")"
   ]
  },
  {
   "cell_type": "code",
   "execution_count": 38,
   "id": "d96b0066",
   "metadata": {
    "id": "QFaZJwnlXQLJ"
   },
   "outputs": [],
   "source": [
    "#select the top 25 features\n",
    "importances = model.feature_importances_\n",
    "n_features = 25\n",
    "feature_indices = np.argsort(importances)[::-1][:n_features]\n",
    "selected_features = [X.columns[i] for i in feature_indices]"
   ]
  },
  {
   "cell_type": "code",
   "execution_count": 39,
   "id": "253ed0a5",
   "metadata": {
    "id": "5jR5T3R3XQLJ"
   },
   "outputs": [
    {
     "name": "stdout",
     "output_type": "stream",
     "text": [
      "15\n"
     ]
    }
   ],
   "source": [
    "# Get the top 25 important features\n",
    "selected_features = [X.columns[i] for i in feature_indices[:25]]\n",
    "\n",
    "# Create a PCA model and fit it to the selected features\n",
    "pca = PCA()\n",
    "pca.fit(X[selected_features])\n",
    "\n",
    "# Transform the selected features using the fitted PCA model\n",
    "X_reduced = pca.transform(X[selected_features])\n",
    "\n",
    "# Get the proportion of variance explained\n",
    "var_exp = pca.explained_variance_ratio_\n",
    "\n",
    "# Print the number of dimensions after reduction\n",
    "print(X_reduced.shape[1])"
   ]
  },
  {
   "cell_type": "code",
   "execution_count": 40,
   "id": "c15a2d15",
   "metadata": {
    "id": "sIBX6WrLXQLJ"
   },
   "outputs": [],
   "source": [
    "pca = PCA(n_components=15)\n",
    "X_reduced = pca.fit_transform(X)"
   ]
  },
  {
   "cell_type": "code",
   "execution_count": 41,
   "id": "6aeea00d",
   "metadata": {
    "id": "EBQm0UCRXQLJ"
   },
   "outputs": [
    {
     "name": "stdout",
     "output_type": "stream",
     "text": [
      "Accuracy: 1.0\n",
      "Precision: [1. 1.]\n",
      "Recall: [1. 1.]\n",
      "F1 Score: [1. 1.]\n"
     ]
    }
   ],
   "source": [
    "model = ExtraTreesClassifier()\n",
    "model.fit(X_reduced, y)\n",
    "# Make predictions on the test set\n",
    "y_pred = model.predict(X_reduced)\n",
    "\n",
    "# Calculate accuracy\n",
    "accuracy = accuracy_score(y, y_pred)\n",
    "\n",
    "# Calculate precision, recall, f1 score\n",
    "prec, rec, fscore, sup = precision_recall_fscore_support(y, y_pred)\n",
    "\n",
    "print(\"Accuracy: {}\".format(accuracy))\n",
    "print(\"Precision: {}\".format(prec))\n",
    "print(\"Recall: {}\".format(rec))\n",
    "print(\"F1 Score: {}\".format(fscore))"
   ]
  },
  {
   "cell_type": "code",
   "execution_count": 42,
   "id": "3c468b8b",
   "metadata": {
    "id": "DQbixPcqaKj2"
   },
   "outputs": [
    {
     "data": {
      "text/html": [
       "<style>#sk-container-id-2 {color: black;background-color: white;}#sk-container-id-2 pre{padding: 0;}#sk-container-id-2 div.sk-toggleable {background-color: white;}#sk-container-id-2 label.sk-toggleable__label {cursor: pointer;display: block;width: 100%;margin-bottom: 0;padding: 0.3em;box-sizing: border-box;text-align: center;}#sk-container-id-2 label.sk-toggleable__label-arrow:before {content: \"▸\";float: left;margin-right: 0.25em;color: #696969;}#sk-container-id-2 label.sk-toggleable__label-arrow:hover:before {color: black;}#sk-container-id-2 div.sk-estimator:hover label.sk-toggleable__label-arrow:before {color: black;}#sk-container-id-2 div.sk-toggleable__content {max-height: 0;max-width: 0;overflow: hidden;text-align: left;background-color: #f0f8ff;}#sk-container-id-2 div.sk-toggleable__content pre {margin: 0.2em;color: black;border-radius: 0.25em;background-color: #f0f8ff;}#sk-container-id-2 input.sk-toggleable__control:checked~div.sk-toggleable__content {max-height: 200px;max-width: 100%;overflow: auto;}#sk-container-id-2 input.sk-toggleable__control:checked~label.sk-toggleable__label-arrow:before {content: \"▾\";}#sk-container-id-2 div.sk-estimator input.sk-toggleable__control:checked~label.sk-toggleable__label {background-color: #d4ebff;}#sk-container-id-2 div.sk-label input.sk-toggleable__control:checked~label.sk-toggleable__label {background-color: #d4ebff;}#sk-container-id-2 input.sk-hidden--visually {border: 0;clip: rect(1px 1px 1px 1px);clip: rect(1px, 1px, 1px, 1px);height: 1px;margin: -1px;overflow: hidden;padding: 0;position: absolute;width: 1px;}#sk-container-id-2 div.sk-estimator {font-family: monospace;background-color: #f0f8ff;border: 1px dotted black;border-radius: 0.25em;box-sizing: border-box;margin-bottom: 0.5em;}#sk-container-id-2 div.sk-estimator:hover {background-color: #d4ebff;}#sk-container-id-2 div.sk-parallel-item::after {content: \"\";width: 100%;border-bottom: 1px solid gray;flex-grow: 1;}#sk-container-id-2 div.sk-label:hover label.sk-toggleable__label {background-color: #d4ebff;}#sk-container-id-2 div.sk-serial::before {content: \"\";position: absolute;border-left: 1px solid gray;box-sizing: border-box;top: 0;bottom: 0;left: 50%;z-index: 0;}#sk-container-id-2 div.sk-serial {display: flex;flex-direction: column;align-items: center;background-color: white;padding-right: 0.2em;padding-left: 0.2em;position: relative;}#sk-container-id-2 div.sk-item {position: relative;z-index: 1;}#sk-container-id-2 div.sk-parallel {display: flex;align-items: stretch;justify-content: center;background-color: white;position: relative;}#sk-container-id-2 div.sk-item::before, #sk-container-id-2 div.sk-parallel-item::before {content: \"\";position: absolute;border-left: 1px solid gray;box-sizing: border-box;top: 0;bottom: 0;left: 50%;z-index: -1;}#sk-container-id-2 div.sk-parallel-item {display: flex;flex-direction: column;z-index: 1;position: relative;background-color: white;}#sk-container-id-2 div.sk-parallel-item:first-child::after {align-self: flex-end;width: 50%;}#sk-container-id-2 div.sk-parallel-item:last-child::after {align-self: flex-start;width: 50%;}#sk-container-id-2 div.sk-parallel-item:only-child::after {width: 0;}#sk-container-id-2 div.sk-dashed-wrapped {border: 1px dashed gray;margin: 0 0.4em 0.5em 0.4em;box-sizing: border-box;padding-bottom: 0.4em;background-color: white;}#sk-container-id-2 div.sk-label label {font-family: monospace;font-weight: bold;display: inline-block;line-height: 1.2em;}#sk-container-id-2 div.sk-label-container {text-align: center;}#sk-container-id-2 div.sk-container {/* jupyter's `normalize.less` sets `[hidden] { display: none; }` but bootstrap.min.css set `[hidden] { display: none !important; }` so we also need the `!important` here to be able to override the default hidden behavior on the sphinx rendered scikit-learn.org. See: https://github.com/scikit-learn/scikit-learn/issues/21755 */display: inline-block !important;position: relative;}#sk-container-id-2 div.sk-text-repr-fallback {display: none;}</style><div id=\"sk-container-id-2\" class=\"sk-top-container\"><div class=\"sk-text-repr-fallback\"><pre>XGBClassifier(base_score=None, booster=None, callbacks=None,\n",
       "              colsample_bylevel=None, colsample_bynode=None,\n",
       "              colsample_bytree=None, early_stopping_rounds=None,\n",
       "              enable_categorical=False, eval_metric=None, feature_types=None,\n",
       "              gamma=None, gpu_id=0, grow_policy=None, importance_type=None,\n",
       "              interaction_constraints=None, learning_rate=None, max_bin=None,\n",
       "              max_cat_threshold=None, max_cat_to_onehot=None,\n",
       "              max_delta_step=None, max_depth=None, max_leaves=None,\n",
       "              min_child_weight=None, missing=nan, monotone_constraints=None,\n",
       "              n_estimators=100, n_jobs=None, num_parallel_tree=None,\n",
       "              predictor=None, random_state=None, ...)</pre><b>In a Jupyter environment, please rerun this cell to show the HTML representation or trust the notebook. <br />On GitHub, the HTML representation is unable to render, please try loading this page with nbviewer.org.</b></div><div class=\"sk-container\" hidden><div class=\"sk-item\"><div class=\"sk-estimator sk-toggleable\"><input class=\"sk-toggleable__control sk-hidden--visually\" id=\"sk-estimator-id-2\" type=\"checkbox\" checked><label for=\"sk-estimator-id-2\" class=\"sk-toggleable__label sk-toggleable__label-arrow\">XGBClassifier</label><div class=\"sk-toggleable__content\"><pre>XGBClassifier(base_score=None, booster=None, callbacks=None,\n",
       "              colsample_bylevel=None, colsample_bynode=None,\n",
       "              colsample_bytree=None, early_stopping_rounds=None,\n",
       "              enable_categorical=False, eval_metric=None, feature_types=None,\n",
       "              gamma=None, gpu_id=0, grow_policy=None, importance_type=None,\n",
       "              interaction_constraints=None, learning_rate=None, max_bin=None,\n",
       "              max_cat_threshold=None, max_cat_to_onehot=None,\n",
       "              max_delta_step=None, max_depth=None, max_leaves=None,\n",
       "              min_child_weight=None, missing=nan, monotone_constraints=None,\n",
       "              n_estimators=100, n_jobs=None, num_parallel_tree=None,\n",
       "              predictor=None, random_state=None, ...)</pre></div></div></div></div></div>"
      ],
      "text/plain": [
       "XGBClassifier(base_score=None, booster=None, callbacks=None,\n",
       "              colsample_bylevel=None, colsample_bynode=None,\n",
       "              colsample_bytree=None, early_stopping_rounds=None,\n",
       "              enable_categorical=False, eval_metric=None, feature_types=None,\n",
       "              gamma=None, gpu_id=0, grow_policy=None, importance_type=None,\n",
       "              interaction_constraints=None, learning_rate=None, max_bin=None,\n",
       "              max_cat_threshold=None, max_cat_to_onehot=None,\n",
       "              max_delta_step=None, max_depth=None, max_leaves=None,\n",
       "              min_child_weight=None, missing=nan, monotone_constraints=None,\n",
       "              n_estimators=100, n_jobs=None, num_parallel_tree=None,\n",
       "              predictor=None, random_state=None, ...)"
      ]
     },
     "execution_count": 42,
     "metadata": {},
     "output_type": "execute_result"
    }
   ],
   "source": [
    "model = xgb.XGBClassifier(\n",
    "    tree_method='approx', gpu_id=0,\n",
    "    scale_pos_weight=1\n",
    ")\n",
    "model.fit(X_reduced, y)"
   ]
  },
  {
   "cell_type": "code",
   "execution_count": 43,
   "id": "ad97d27a",
   "metadata": {
    "id": "Dl2wLkTEaKj2"
   },
   "outputs": [
    {
     "name": "stdout",
     "output_type": "stream",
     "text": [
      "Accuracy: 0.989126\n",
      "Precision: [0.98913214 0.95321637]\n",
      "Recall: [0.99999191 0.01477922]\n",
      "F1 Score: [0.99453238 0.02910714]\n"
     ]
    }
   ],
   "source": [
    "# Make predictions on the test set\n",
    "y_pred = model.predict(X_reduced)\n",
    "\n",
    "# Calculate accuracy\n",
    "accuracy = accuracy_score(y, y_pred)\n",
    "\n",
    "# Calculate precision, recall, f1 score\n",
    "prec, rec, fscore, sup = precision_recall_fscore_support(y, y_pred)\n",
    "\n",
    "print(\"Accuracy: {}\".format(accuracy))\n",
    "print(\"Precision: {}\".format(prec))\n",
    "print(\"Recall: {}\".format(rec))\n",
    "print(\"F1 Score: {}\".format(fscore))"
   ]
  },
  {
   "cell_type": "markdown",
   "id": "6eaaf417",
   "metadata": {
    "id": "DdojBqBNWpqO"
   },
   "source": [
    "# Third Dataset(Variant 2)"
   ]
  },
  {
   "cell_type": "markdown",
   "id": "f0b86156",
   "metadata": {
    "id": "bUGaQBmXX3uH"
   },
   "source": [
    "### Read dataset"
   ]
  },
  {
   "cell_type": "code",
   "execution_count": 63,
   "id": "5c2f5b3c",
   "metadata": {
    "id": "PA56DHObX3uI"
   },
   "outputs": [],
   "source": [
    "df_2 = pd.read_csv('Fraud Detection/neurips-2022/Variant II.csv')"
   ]
  },
  {
   "cell_type": "markdown",
   "id": "0ea2821c",
   "metadata": {
    "id": "DjxxicdVX3uI"
   },
   "source": [
    "### Preprocessing"
   ]
  },
  {
   "cell_type": "code",
   "execution_count": 64,
   "id": "bfe7c4b3",
   "metadata": {
    "id": "Wdssh850X3uI",
    "outputId": "aa0c1edd-0690-40eb-9bce-b592521f5d1a"
   },
   "outputs": [
    {
     "data": {
      "text/plain": [
       "['fraud_bool',\n",
       " 'income',\n",
       " 'name_email_similarity',\n",
       " 'prev_address_months_count',\n",
       " 'current_address_months_count',\n",
       " 'customer_age',\n",
       " 'days_since_request',\n",
       " 'intended_balcon_amount',\n",
       " 'zip_count_4w',\n",
       " 'velocity_6h',\n",
       " 'velocity_24h',\n",
       " 'velocity_4w',\n",
       " 'bank_branch_count_8w',\n",
       " 'date_of_birth_distinct_emails_4w',\n",
       " 'credit_risk_score',\n",
       " 'email_is_free',\n",
       " 'phone_home_valid',\n",
       " 'phone_mobile_valid',\n",
       " 'bank_months_count',\n",
       " 'has_other_cards',\n",
       " 'proposed_credit_limit',\n",
       " 'foreign_request',\n",
       " 'session_length_in_minutes',\n",
       " 'keep_alive_session',\n",
       " 'device_distinct_emails_8w',\n",
       " 'device_fraud_count',\n",
       " 'month']"
      ]
     },
     "execution_count": 64,
     "metadata": {},
     "output_type": "execute_result"
    }
   ],
   "source": [
    "numerical_features = []\n",
    "\n",
    "for col in df_2.columns:\n",
    "    if df_2[col].dtypes =='float64' or df_2[col].dtypes =='int64':\n",
    "        numerical_features.append(col)\n",
    "\n",
    "numerical_features"
   ]
  },
  {
   "cell_type": "code",
   "execution_count": 65,
   "id": "fc6641af",
   "metadata": {
    "id": "NCs7N1p4X3uI"
   },
   "outputs": [],
   "source": [
    "# Columns with missing values\n",
    "cols = ['prev_address_months_count',\n",
    "'current_address_months_count',\n",
    "'bank_months_count',\n",
    "'session_length_in_minutes',\n",
    "'device_distinct_emails_8w']\n",
    "\n",
    "# Replace -1 with NULL\n",
    "for col in cols:\n",
    "    df_2[col] = df_2[col].replace(-1, np.nan)\n",
    "\n",
    "# Replace any other missing representations with NULL\n",
    "for col in cols:\n",
    "    df_2[col] = df_2[col].replace(['NA', '()', 'none'], np.nan, regex=True)"
   ]
  },
  {
   "cell_type": "code",
   "execution_count": 66,
   "id": "8991aea7",
   "metadata": {
    "id": "dosgTJmBX3uJ"
   },
   "outputs": [],
   "source": [
    "# Replace negative values with NULL\n",
    "df_2['intended_balcon_amount'] = df_2['intended_balcon_amount'].replace([-16,-15,-14,-13,-12,-11,-10,-9,-8,-7,-6,-5,-4,-3,-2,-1], np.nan)"
   ]
  },
  {
   "cell_type": "code",
   "execution_count": 67,
   "id": "cc0b0c94",
   "metadata": {
    "id": "ZO9s2ECBX3uJ"
   },
   "outputs": [],
   "source": [
    "# Columns with missing values\n",
    "cols = ['prev_address_months_count',\n",
    "'current_address_months_count',\n",
    "'bank_months_count',\n",
    "'session_length_in_minutes',\n",
    "'device_distinct_emails_8w'\n",
    "]\n",
    "\n",
    "# Median imputer\n",
    "imputer = SimpleImputer(strategy=\"median\")\n",
    "\n",
    "# Fit imputer on each column\n",
    "for col in cols:\n",
    "    imputer = imputer.fit(df_2[col].values.reshape(-1,1))\n",
    "\n",
    "# Transform data (impute nulls)\n",
    "for col in cols:\n",
    "    df_2[col] = imputer.transform(df_2[col].values.reshape(-1,1))"
   ]
  },
  {
   "cell_type": "code",
   "execution_count": 68,
   "id": "a8b88b61",
   "metadata": {
    "id": "9it5_rRCX3uJ"
   },
   "outputs": [],
   "source": [
    "df_dumm = pd.get_dummies(df_2) # one hot encoding"
   ]
  },
  {
   "cell_type": "code",
   "execution_count": 69,
   "id": "d1e002f7",
   "metadata": {
    "id": "wwVZE9KDX3uJ"
   },
   "outputs": [],
   "source": [
    "# Take log of columns\n",
    "df_dumm['proposed_credit_limit'] = np.log(df_dumm['proposed_credit_limit'])\n",
    "df_dumm['days_since_request'] = np.log(df_dumm['days_since_request'])\n",
    "df_dumm['zip_count_4w'] = np.log(df_dumm['zip_count_4w'])"
   ]
  },
  {
   "cell_type": "code",
   "execution_count": 70,
   "id": "828c0c5e",
   "metadata": {
    "id": "T72Cr8L0X3uJ"
   },
   "outputs": [],
   "source": [
    "dataset_2 = df_dumm.drop(columns='fraud_bool')"
   ]
  },
  {
   "cell_type": "code",
   "execution_count": 71,
   "id": "5382aa3d",
   "metadata": {
    "id": "Yz73ISTtX3uJ",
    "outputId": "70dc1e7e-6e9f-4738-85a8-9a97641ec2c3"
   },
   "outputs": [
    {
     "name": "stdout",
     "output_type": "stream",
     "text": [
      "fraud_bool\n",
      "0    0.988969\n",
      "1    0.011031\n",
      "Name: count, dtype: float64\n"
     ]
    }
   ],
   "source": [
    "# Identify features (X) and target (y)\n",
    "X = df_dumm.drop('fraud_bool', axis=1)\n",
    "y = df_dumm['fraud_bool']\n",
    "\n",
    "# Split into train and test\n",
    "X_train, X_test, y_train, y_test = train_test_split(X, y)\n",
    "\n",
    "# Check class distribution in training set\n",
    "print(y_train.value_counts()/len(y_train))"
   ]
  },
  {
   "cell_type": "code",
   "execution_count": 72,
   "id": "b5880fdd",
   "metadata": {
    "id": "6VXbQJ3JX3uJ"
   },
   "outputs": [
    {
     "name": "stdout",
     "output_type": "stream",
     "text": [
      "fraud_bool\n",
      "1    0.533144\n",
      "0    0.466856\n",
      "Name: count, dtype: float64\n"
     ]
    },
    {
     "name": "stderr",
     "output_type": "stream",
     "text": [
      "/opt/conda/lib/python3.9/site-packages/sklearn/linear_model/_logistic.py:458: ConvergenceWarning: lbfgs failed to converge (status=1):\n",
      "STOP: TOTAL NO. of ITERATIONS REACHED LIMIT.\n",
      "\n",
      "Increase the number of iterations (max_iter) or scale the data as shown in:\n",
      "    https://scikit-learn.org/stable/modules/preprocessing.html\n",
      "Please also refer to the documentation for alternative solver options:\n",
      "    https://scikit-learn.org/stable/modules/linear_model.html#logistic-regression\n",
      "  n_iter_i = _check_optimize_result(\n"
     ]
    },
    {
     "data": {
      "text/plain": [
       "'              precision    recall  f1-score   support\\n\\n           0       1.00      0.59      0.74    247244\\n           1       0.02      0.78      0.04      2756\\n\\n    accuracy                           0.60    250000\\n   macro avg       0.51      0.69      0.39    250000\\nweighted avg       0.99      0.60      0.74    250000\\n'"
      ]
     },
     "execution_count": 72,
     "metadata": {},
     "output_type": "execute_result"
    }
   ],
   "source": [
    "#Instantiate oversampler and logistic regression model\n",
    "randomover = RandomOverSampler(random_state=42)\n",
    "log_reg = LogisticRegression()\n",
    "\n",
    "# Instantiate samplers\n",
    "enn = SMOTEENN(random_state=42)\n",
    "\n",
    "# Apply ENN cleaning\n",
    "X_train_enn, y_train_enn = enn.fit_resample(X_train, y_train)\n",
    "\n",
    "# Check the new class distribution\n",
    "print(y_train_enn.value_counts()/len(y_train_enn))\n",
    "\n",
    "# Train a model using the oversampled training data\n",
    "log_reg.fit(X_train_enn, y_train_enn)\n",
    "\n",
    "# Make predictions on test set\n",
    "y_pred = log_reg.predict(X_test)\n",
    "\n",
    "# Generate classification report\n",
    "report = classification_report(y_test, y_pred)\n",
    "report"
   ]
  },
  {
   "cell_type": "code",
   "execution_count": 73,
   "id": "ba68f629",
   "metadata": {
    "id": "e3hXn18dX3uJ"
   },
   "outputs": [
    {
     "name": "stdout",
     "output_type": "stream",
     "text": [
      "Accuracy: 0.596024\n",
      "Precision: 0.020939804158701673\n",
      "Recall: 0.7790275761973875\n",
      "F1 Score: 0.04078337512347086\n"
     ]
    }
   ],
   "source": [
    "accuracy_SMOTEENN = accuracy_score(y_test, y_pred)\n",
    "print(f\"Accuracy: {accuracy_SMOTEENN}\")\n",
    "\n",
    "precision_SMOTEENN = precision_score(y_test, y_pred)\n",
    "print(f\"Precision: {precision_SMOTEENN}\")\n",
    "\n",
    "recall_SMOTEENN = recall_score(y_test, y_pred)\n",
    "print(f\"Recall: {recall_SMOTEENN}\")\n",
    "\n",
    "f1_SMOTEENN = f1_score(y_test, y_pred)\n",
    "print(f\"F1 Score: {f1_SMOTEENN}\")"
   ]
  },
  {
   "cell_type": "code",
   "execution_count": 74,
   "id": "0aa47b54",
   "metadata": {
    "id": "PLSX6saQX3uK"
   },
   "outputs": [],
   "source": [
    "#select the top 25 features\n",
    "importances = model.feature_importances_\n",
    "n_features = 25\n",
    "feature_indices = np.argsort(importances)[::-1][:n_features]\n",
    "selected_features = [X.columns[i] for i in feature_indices]"
   ]
  },
  {
   "cell_type": "code",
   "execution_count": 75,
   "id": "0eb2b3c3",
   "metadata": {
    "id": "9-TR3G5FX3uK"
   },
   "outputs": [
    {
     "name": "stdout",
     "output_type": "stream",
     "text": [
      "15\n"
     ]
    }
   ],
   "source": [
    "# Get the top 25 important features\n",
    "selected_features = [X.columns[i] for i in feature_indices[:25]]\n",
    "\n",
    "# Create a PCA model and fit it to the selected features\n",
    "pca = PCA()\n",
    "pca.fit(X[selected_features])\n",
    "\n",
    "# Transform the selected features using the fitted PCA model\n",
    "X_reduced = pca.transform(X[selected_features])\n",
    "\n",
    "# Get the proportion of variance explained\n",
    "var_exp = pca.explained_variance_ratio_\n",
    "\n",
    "# Print the number of dimensions after reduction\n",
    "print(X_reduced.shape[1])"
   ]
  },
  {
   "cell_type": "code",
   "execution_count": 76,
   "id": "28c2ff70",
   "metadata": {
    "id": "gVQzaWD_X3uK"
   },
   "outputs": [],
   "source": [
    "pca = PCA(n_components=15)\n",
    "X_reduced = pca.fit_transform(X)"
   ]
  },
  {
   "cell_type": "code",
   "execution_count": 77,
   "id": "7822a6b8",
   "metadata": {
    "id": "AZeuEtKKX3uK"
   },
   "outputs": [
    {
     "name": "stdout",
     "output_type": "stream",
     "text": [
      "Accuracy: 1.0\n",
      "Precision: [1. 1.]\n",
      "Recall: [1. 1.]\n",
      "F1 Score: [1. 1.]\n"
     ]
    }
   ],
   "source": [
    "model = ExtraTreesClassifier()\n",
    "model.fit(X_reduced, y)\n",
    "# Make predictions on the test set\n",
    "y_pred = model.predict(X_reduced)\n",
    "\n",
    "# Calculate accuracy\n",
    "accuracy = accuracy_score(y, y_pred)\n",
    "\n",
    "# Calculate precision, recall, f1 score\n",
    "prec, rec, fscore, sup = precision_recall_fscore_support(y, y_pred)\n",
    "\n",
    "print(\"Accuracy: {}\".format(accuracy))\n",
    "print(\"Precision: {}\".format(prec))\n",
    "print(\"Recall: {}\".format(rec))\n",
    "print(\"F1 Score: {}\".format(fscore))"
   ]
  },
  {
   "cell_type": "code",
   "execution_count": 78,
   "id": "02ba17d8",
   "metadata": {
    "id": "TUf0_2c4aPam"
   },
   "outputs": [
    {
     "data": {
      "text/html": [
       "<style>#sk-container-id-4 {color: black;background-color: white;}#sk-container-id-4 pre{padding: 0;}#sk-container-id-4 div.sk-toggleable {background-color: white;}#sk-container-id-4 label.sk-toggleable__label {cursor: pointer;display: block;width: 100%;margin-bottom: 0;padding: 0.3em;box-sizing: border-box;text-align: center;}#sk-container-id-4 label.sk-toggleable__label-arrow:before {content: \"▸\";float: left;margin-right: 0.25em;color: #696969;}#sk-container-id-4 label.sk-toggleable__label-arrow:hover:before {color: black;}#sk-container-id-4 div.sk-estimator:hover label.sk-toggleable__label-arrow:before {color: black;}#sk-container-id-4 div.sk-toggleable__content {max-height: 0;max-width: 0;overflow: hidden;text-align: left;background-color: #f0f8ff;}#sk-container-id-4 div.sk-toggleable__content pre {margin: 0.2em;color: black;border-radius: 0.25em;background-color: #f0f8ff;}#sk-container-id-4 input.sk-toggleable__control:checked~div.sk-toggleable__content {max-height: 200px;max-width: 100%;overflow: auto;}#sk-container-id-4 input.sk-toggleable__control:checked~label.sk-toggleable__label-arrow:before {content: \"▾\";}#sk-container-id-4 div.sk-estimator input.sk-toggleable__control:checked~label.sk-toggleable__label {background-color: #d4ebff;}#sk-container-id-4 div.sk-label input.sk-toggleable__control:checked~label.sk-toggleable__label {background-color: #d4ebff;}#sk-container-id-4 input.sk-hidden--visually {border: 0;clip: rect(1px 1px 1px 1px);clip: rect(1px, 1px, 1px, 1px);height: 1px;margin: -1px;overflow: hidden;padding: 0;position: absolute;width: 1px;}#sk-container-id-4 div.sk-estimator {font-family: monospace;background-color: #f0f8ff;border: 1px dotted black;border-radius: 0.25em;box-sizing: border-box;margin-bottom: 0.5em;}#sk-container-id-4 div.sk-estimator:hover {background-color: #d4ebff;}#sk-container-id-4 div.sk-parallel-item::after {content: \"\";width: 100%;border-bottom: 1px solid gray;flex-grow: 1;}#sk-container-id-4 div.sk-label:hover label.sk-toggleable__label {background-color: #d4ebff;}#sk-container-id-4 div.sk-serial::before {content: \"\";position: absolute;border-left: 1px solid gray;box-sizing: border-box;top: 0;bottom: 0;left: 50%;z-index: 0;}#sk-container-id-4 div.sk-serial {display: flex;flex-direction: column;align-items: center;background-color: white;padding-right: 0.2em;padding-left: 0.2em;position: relative;}#sk-container-id-4 div.sk-item {position: relative;z-index: 1;}#sk-container-id-4 div.sk-parallel {display: flex;align-items: stretch;justify-content: center;background-color: white;position: relative;}#sk-container-id-4 div.sk-item::before, #sk-container-id-4 div.sk-parallel-item::before {content: \"\";position: absolute;border-left: 1px solid gray;box-sizing: border-box;top: 0;bottom: 0;left: 50%;z-index: -1;}#sk-container-id-4 div.sk-parallel-item {display: flex;flex-direction: column;z-index: 1;position: relative;background-color: white;}#sk-container-id-4 div.sk-parallel-item:first-child::after {align-self: flex-end;width: 50%;}#sk-container-id-4 div.sk-parallel-item:last-child::after {align-self: flex-start;width: 50%;}#sk-container-id-4 div.sk-parallel-item:only-child::after {width: 0;}#sk-container-id-4 div.sk-dashed-wrapped {border: 1px dashed gray;margin: 0 0.4em 0.5em 0.4em;box-sizing: border-box;padding-bottom: 0.4em;background-color: white;}#sk-container-id-4 div.sk-label label {font-family: monospace;font-weight: bold;display: inline-block;line-height: 1.2em;}#sk-container-id-4 div.sk-label-container {text-align: center;}#sk-container-id-4 div.sk-container {/* jupyter's `normalize.less` sets `[hidden] { display: none; }` but bootstrap.min.css set `[hidden] { display: none !important; }` so we also need the `!important` here to be able to override the default hidden behavior on the sphinx rendered scikit-learn.org. See: https://github.com/scikit-learn/scikit-learn/issues/21755 */display: inline-block !important;position: relative;}#sk-container-id-4 div.sk-text-repr-fallback {display: none;}</style><div id=\"sk-container-id-4\" class=\"sk-top-container\"><div class=\"sk-text-repr-fallback\"><pre>XGBClassifier(base_score=None, booster=None, callbacks=None,\n",
       "              colsample_bylevel=None, colsample_bynode=None,\n",
       "              colsample_bytree=None, early_stopping_rounds=None,\n",
       "              enable_categorical=False, eval_metric=None, feature_types=None,\n",
       "              gamma=None, gpu_id=0, grow_policy=None, importance_type=None,\n",
       "              interaction_constraints=None, learning_rate=None, max_bin=None,\n",
       "              max_cat_threshold=None, max_cat_to_onehot=None,\n",
       "              max_delta_step=None, max_depth=None, max_leaves=None,\n",
       "              min_child_weight=None, missing=nan, monotone_constraints=None,\n",
       "              n_estimators=100, n_jobs=None, num_parallel_tree=None,\n",
       "              predictor=None, random_state=None, ...)</pre><b>In a Jupyter environment, please rerun this cell to show the HTML representation or trust the notebook. <br />On GitHub, the HTML representation is unable to render, please try loading this page with nbviewer.org.</b></div><div class=\"sk-container\" hidden><div class=\"sk-item\"><div class=\"sk-estimator sk-toggleable\"><input class=\"sk-toggleable__control sk-hidden--visually\" id=\"sk-estimator-id-4\" type=\"checkbox\" checked><label for=\"sk-estimator-id-4\" class=\"sk-toggleable__label sk-toggleable__label-arrow\">XGBClassifier</label><div class=\"sk-toggleable__content\"><pre>XGBClassifier(base_score=None, booster=None, callbacks=None,\n",
       "              colsample_bylevel=None, colsample_bynode=None,\n",
       "              colsample_bytree=None, early_stopping_rounds=None,\n",
       "              enable_categorical=False, eval_metric=None, feature_types=None,\n",
       "              gamma=None, gpu_id=0, grow_policy=None, importance_type=None,\n",
       "              interaction_constraints=None, learning_rate=None, max_bin=None,\n",
       "              max_cat_threshold=None, max_cat_to_onehot=None,\n",
       "              max_delta_step=None, max_depth=None, max_leaves=None,\n",
       "              min_child_weight=None, missing=nan, monotone_constraints=None,\n",
       "              n_estimators=100, n_jobs=None, num_parallel_tree=None,\n",
       "              predictor=None, random_state=None, ...)</pre></div></div></div></div></div>"
      ],
      "text/plain": [
       "XGBClassifier(base_score=None, booster=None, callbacks=None,\n",
       "              colsample_bylevel=None, colsample_bynode=None,\n",
       "              colsample_bytree=None, early_stopping_rounds=None,\n",
       "              enable_categorical=False, eval_metric=None, feature_types=None,\n",
       "              gamma=None, gpu_id=0, grow_policy=None, importance_type=None,\n",
       "              interaction_constraints=None, learning_rate=None, max_bin=None,\n",
       "              max_cat_threshold=None, max_cat_to_onehot=None,\n",
       "              max_delta_step=None, max_depth=None, max_leaves=None,\n",
       "              min_child_weight=None, missing=nan, monotone_constraints=None,\n",
       "              n_estimators=100, n_jobs=None, num_parallel_tree=None,\n",
       "              predictor=None, random_state=None, ...)"
      ]
     },
     "execution_count": 78,
     "metadata": {},
     "output_type": "execute_result"
    }
   ],
   "source": [
    "model = xgb.XGBClassifier(\n",
    "    tree_method='approx', gpu_id=0,\n",
    "    scale_pos_weight=1\n",
    ")\n",
    "model.fit(X_reduced, y)"
   ]
  },
  {
   "cell_type": "code",
   "execution_count": 79,
   "id": "98c8818d",
   "metadata": {
    "id": "kJ---fdaaPam"
   },
   "outputs": [
    {
     "name": "stdout",
     "output_type": "stream",
     "text": [
      "Accuracy: 0.989214\n",
      "Precision: [0.98924172 0.89836066]\n",
      "Recall: [0.99996865 0.02484359]\n",
      "F1 Score: [0.99457626 0.0483501 ]\n"
     ]
    }
   ],
   "source": [
    "# Make predictions on the test set\n",
    "y_pred = model.predict(X_reduced)\n",
    "\n",
    "# Calculate accuracy\n",
    "accuracy = accuracy_score(y, y_pred)\n",
    "\n",
    "# Calculate precision, recall, f1 score\n",
    "prec, rec, fscore, sup = precision_recall_fscore_support(y, y_pred)\n",
    "\n",
    "print(\"Accuracy: {}\".format(accuracy))\n",
    "print(\"Precision: {}\".format(prec))\n",
    "print(\"Recall: {}\".format(rec))\n",
    "print(\"F1 Score: {}\".format(fscore))"
   ]
  },
  {
   "cell_type": "markdown",
   "id": "bebf6dea",
   "metadata": {
    "id": "ecer-T5RX66u"
   },
   "source": [
    "# Fourth Dataset(Variant 3)"
   ]
  },
  {
   "cell_type": "markdown",
   "id": "fcf39ef2",
   "metadata": {
    "id": "h9LYGSFlYCLX"
   },
   "source": [
    "### Read dataset"
   ]
  },
  {
   "cell_type": "code",
   "execution_count": 81,
   "id": "bcb92830",
   "metadata": {
    "id": "g6RAMe78YCLk"
   },
   "outputs": [],
   "source": [
    "df_3 = pd.read_csv('Fraud Detection/neurips-2022/Variant III.csv')"
   ]
  },
  {
   "cell_type": "markdown",
   "id": "ff9a5a28",
   "metadata": {
    "id": "Xmk_EiguYCLk"
   },
   "source": [
    "### Preprocessing"
   ]
  },
  {
   "cell_type": "code",
   "execution_count": 82,
   "id": "b440d953",
   "metadata": {
    "id": "Mho2x57cYCLk",
    "outputId": "aa0c1edd-0690-40eb-9bce-b592521f5d1a"
   },
   "outputs": [
    {
     "data": {
      "text/plain": [
       "['fraud_bool',\n",
       " 'income',\n",
       " 'name_email_similarity',\n",
       " 'prev_address_months_count',\n",
       " 'current_address_months_count',\n",
       " 'customer_age',\n",
       " 'days_since_request',\n",
       " 'intended_balcon_amount',\n",
       " 'zip_count_4w',\n",
       " 'velocity_6h',\n",
       " 'velocity_24h',\n",
       " 'velocity_4w',\n",
       " 'bank_branch_count_8w',\n",
       " 'date_of_birth_distinct_emails_4w',\n",
       " 'credit_risk_score',\n",
       " 'email_is_free',\n",
       " 'phone_home_valid',\n",
       " 'phone_mobile_valid',\n",
       " 'bank_months_count',\n",
       " 'has_other_cards',\n",
       " 'proposed_credit_limit',\n",
       " 'foreign_request',\n",
       " 'session_length_in_minutes',\n",
       " 'keep_alive_session',\n",
       " 'device_distinct_emails_8w',\n",
       " 'device_fraud_count',\n",
       " 'month',\n",
       " 'x1',\n",
       " 'x2']"
      ]
     },
     "execution_count": 82,
     "metadata": {},
     "output_type": "execute_result"
    }
   ],
   "source": [
    "numerical_features = []\n",
    "\n",
    "for col in df_3.columns:\n",
    "    if df_3[col].dtypes =='float64' or df_3[col].dtypes =='int64':\n",
    "        numerical_features.append(col)\n",
    "\n",
    "numerical_features"
   ]
  },
  {
   "cell_type": "code",
   "execution_count": 83,
   "id": "da5e935d",
   "metadata": {
    "id": "xrNbIYbUYCLl"
   },
   "outputs": [],
   "source": [
    "# Columns with missing values\n",
    "cols = ['prev_address_months_count',\n",
    "'current_address_months_count',\n",
    "'bank_months_count',\n",
    "'session_length_in_minutes',\n",
    "'device_distinct_emails_8w']\n",
    "\n",
    "# Replace -1 with NULL\n",
    "for col in cols:\n",
    "    df_3[col] = df_3[col].replace(-1, np.nan)\n",
    "\n",
    "# Replace any other missing representations with NULL\n",
    "for col in cols:\n",
    "    df_3[col] = df_3[col].replace(['NA', '()', 'none'], np.nan, regex=True)"
   ]
  },
  {
   "cell_type": "code",
   "execution_count": 84,
   "id": "4262add6",
   "metadata": {
    "id": "qBlDiug-YCLl"
   },
   "outputs": [],
   "source": [
    "# Replace negative values with NULL\n",
    "df_3['intended_balcon_amount'] = df_3['intended_balcon_amount'].replace([-16,-15,-14,-13,-12,-11,-10,-9,-8,-7,-6,-5,-4,-3,-2,-1], np.nan)"
   ]
  },
  {
   "cell_type": "code",
   "execution_count": 85,
   "id": "e0c61b6f",
   "metadata": {
    "id": "XJHqMQJSYCLm"
   },
   "outputs": [],
   "source": [
    "# Columns with missing values\n",
    "cols = ['prev_address_months_count',\n",
    "'current_address_months_count',\n",
    "'bank_months_count',\n",
    "'session_length_in_minutes',\n",
    "'device_distinct_emails_8w'\n",
    "]\n",
    "\n",
    "# Median imputer\n",
    "imputer = SimpleImputer(strategy=\"median\")\n",
    "\n",
    "# Fit imputer on each column\n",
    "for col in cols:\n",
    "    imputer = imputer.fit(df_3[col].values.reshape(-1,1))\n",
    "\n",
    "# Transform data (impute nulls)\n",
    "for col in cols:\n",
    "    df_3[col] = imputer.transform(df_3[col].values.reshape(-1,1))"
   ]
  },
  {
   "cell_type": "code",
   "execution_count": 86,
   "id": "290e4228",
   "metadata": {
    "id": "LAIgCjMsYCLm"
   },
   "outputs": [],
   "source": [
    "df_dumm = pd.get_dummies(df_3) # one hot encoding"
   ]
  },
  {
   "cell_type": "code",
   "execution_count": 87,
   "id": "d92e52ea",
   "metadata": {
    "id": "erldX4_kYCLm"
   },
   "outputs": [],
   "source": [
    "# Take log of columns\n",
    "df_dumm['proposed_credit_limit'] = np.log(df_dumm['proposed_credit_limit'])\n",
    "df_dumm['days_since_request'] = np.log(df_dumm['days_since_request'])\n",
    "df_dumm['zip_count_4w'] = np.log(df_dumm['zip_count_4w'])"
   ]
  },
  {
   "cell_type": "code",
   "execution_count": 88,
   "id": "763d3c0a",
   "metadata": {
    "id": "6gjgKjmhYCLm"
   },
   "outputs": [],
   "source": [
    "dataset_2 = df_dumm.drop(columns='fraud_bool')"
   ]
  },
  {
   "cell_type": "code",
   "execution_count": 89,
   "id": "6a94bcae",
   "metadata": {
    "id": "xDEKp52YYCLm",
    "outputId": "70dc1e7e-6e9f-4738-85a8-9a97641ec2c3"
   },
   "outputs": [
    {
     "name": "stdout",
     "output_type": "stream",
     "text": [
      "fraud_bool\n",
      "0    0.988983\n",
      "1    0.011017\n",
      "Name: count, dtype: float64\n"
     ]
    }
   ],
   "source": [
    "# Identify features (X) and target (y)\n",
    "X = df_dumm.drop('fraud_bool', axis=1)\n",
    "y = df_dumm['fraud_bool']\n",
    "\n",
    "# Split into train and test\n",
    "X_train, X_test, y_train, y_test = train_test_split(X, y)\n",
    "\n",
    "# Check class distribution in training set\n",
    "print(y_train.value_counts()/len(y_train))"
   ]
  },
  {
   "cell_type": "code",
   "execution_count": 90,
   "id": "e702534d",
   "metadata": {
    "id": "pyfVOjnJYCLm"
   },
   "outputs": [
    {
     "name": "stdout",
     "output_type": "stream",
     "text": [
      "fraud_bool\n",
      "1    0.53462\n",
      "0    0.46538\n",
      "Name: count, dtype: float64\n"
     ]
    },
    {
     "name": "stderr",
     "output_type": "stream",
     "text": [
      "/opt/conda/lib/python3.9/site-packages/sklearn/linear_model/_logistic.py:458: ConvergenceWarning: lbfgs failed to converge (status=1):\n",
      "STOP: TOTAL NO. of ITERATIONS REACHED LIMIT.\n",
      "\n",
      "Increase the number of iterations (max_iter) or scale the data as shown in:\n",
      "    https://scikit-learn.org/stable/modules/preprocessing.html\n",
      "Please also refer to the documentation for alternative solver options:\n",
      "    https://scikit-learn.org/stable/modules/linear_model.html#logistic-regression\n",
      "  n_iter_i = _check_optimize_result(\n"
     ]
    },
    {
     "data": {
      "text/plain": [
       "'              precision    recall  f1-score   support\\n\\n           0       0.99      0.55      0.71    247233\\n           1       0.02      0.72      0.03      2767\\n\\n    accuracy                           0.56    250000\\n   macro avg       0.51      0.64      0.37    250000\\nweighted avg       0.98      0.56      0.70    250000\\n'"
      ]
     },
     "execution_count": 90,
     "metadata": {},
     "output_type": "execute_result"
    }
   ],
   "source": [
    "#Instantiate oversampler and logistic regression model\n",
    "randomover = RandomOverSampler(random_state=42)\n",
    "log_reg = LogisticRegression()\n",
    "\n",
    "# Instantiate samplers\n",
    "enn = SMOTEENN(random_state=42)\n",
    "\n",
    "# Apply ENN cleaning\n",
    "X_train_enn, y_train_enn = enn.fit_resample(X_train, y_train)\n",
    "\n",
    "# Check the new class distribution\n",
    "print(y_train_enn.value_counts()/len(y_train_enn))\n",
    "\n",
    "# Train a model using the oversampled training data\n",
    "log_reg.fit(X_train_enn, y_train_enn)\n",
    "\n",
    "# Make predictions on test set\n",
    "y_pred = log_reg.predict(X_test)\n",
    "\n",
    "# Generate classification report\n",
    "report = classification_report(y_test, y_pred)\n",
    "report"
   ]
  },
  {
   "cell_type": "code",
   "execution_count": 91,
   "id": "82b35e6a",
   "metadata": {
    "id": "q_eh3VglYCLm"
   },
   "outputs": [
    {
     "name": "stdout",
     "output_type": "stream",
     "text": [
      "Accuracy: 0.55664\n",
      "Precision: 0.017690584360523755\n",
      "Recall: 0.7162992410552945\n",
      "F1 Score: 0.0345284136441239\n"
     ]
    }
   ],
   "source": [
    "accuracy_SMOTEENN = accuracy_score(y_test, y_pred)\n",
    "print(f\"Accuracy: {accuracy_SMOTEENN}\")\n",
    "\n",
    "precision_SMOTEENN = precision_score(y_test, y_pred)\n",
    "print(f\"Precision: {precision_SMOTEENN}\")\n",
    "\n",
    "recall_SMOTEENN = recall_score(y_test, y_pred)\n",
    "print(f\"Recall: {recall_SMOTEENN}\")\n",
    "\n",
    "f1_SMOTEENN = f1_score(y_test, y_pred)\n",
    "print(f\"F1 Score: {f1_SMOTEENN}\")"
   ]
  },
  {
   "cell_type": "code",
   "execution_count": 92,
   "id": "f045b105",
   "metadata": {
    "id": "nHqM6Ru-YCLm"
   },
   "outputs": [],
   "source": [
    "#select the top 25 features\n",
    "importances = model.feature_importances_\n",
    "n_features = 25\n",
    "feature_indices = np.argsort(importances)[::-1][:n_features]\n",
    "selected_features = [X.columns[i] for i in feature_indices]"
   ]
  },
  {
   "cell_type": "code",
   "execution_count": 93,
   "id": "aba6801e",
   "metadata": {
    "id": "762PuqxRYCLn"
   },
   "outputs": [
    {
     "name": "stdout",
     "output_type": "stream",
     "text": [
      "15\n"
     ]
    }
   ],
   "source": [
    "# Get the top 25 important features\n",
    "selected_features = [X.columns[i] for i in feature_indices[:25]]\n",
    "\n",
    "# Create a PCA model and fit it to the selected features\n",
    "pca = PCA()\n",
    "pca.fit(X[selected_features])\n",
    "\n",
    "# Transform the selected features using the fitted PCA model\n",
    "X_reduced = pca.transform(X[selected_features])\n",
    "\n",
    "# Get the proportion of variance explained\n",
    "var_exp = pca.explained_variance_ratio_\n",
    "\n",
    "# Print the number of dimensions after reduction\n",
    "print(X_reduced.shape[1])"
   ]
  },
  {
   "cell_type": "code",
   "execution_count": 94,
   "id": "44229e46",
   "metadata": {
    "id": "g0X-SawaYCLn"
   },
   "outputs": [],
   "source": [
    "pca = PCA(n_components=15)\n",
    "X_reduced = pca.fit_transform(X)"
   ]
  },
  {
   "cell_type": "code",
   "execution_count": 95,
   "id": "f6f1168a",
   "metadata": {
    "id": "EiN9MUjIYCLn"
   },
   "outputs": [
    {
     "name": "stdout",
     "output_type": "stream",
     "text": [
      "Accuracy: 1.0\n",
      "Precision: [1. 1.]\n",
      "Recall: [1. 1.]\n",
      "F1 Score: [1. 1.]\n"
     ]
    }
   ],
   "source": [
    "model = ExtraTreesClassifier()\n",
    "model.fit(X_reduced, y)\n",
    "# Make predictions on the test set\n",
    "y_pred = model.predict(X_reduced)\n",
    "\n",
    "# Calculate accuracy\n",
    "accuracy = accuracy_score(y, y_pred)\n",
    "\n",
    "# Calculate precision, recall, f1 score\n",
    "prec, rec, fscore, sup = precision_recall_fscore_support(y, y_pred)\n",
    "\n",
    "print(\"Accuracy: {}\".format(accuracy))\n",
    "print(\"Precision: {}\".format(prec))\n",
    "print(\"Recall: {}\".format(rec))\n",
    "print(\"F1 Score: {}\".format(fscore))"
   ]
  },
  {
   "cell_type": "code",
   "execution_count": 96,
   "id": "2ffbe90f",
   "metadata": {
    "id": "5vjI_a8yaTm2"
   },
   "outputs": [
    {
     "data": {
      "text/html": [
       "<style>#sk-container-id-5 {color: black;background-color: white;}#sk-container-id-5 pre{padding: 0;}#sk-container-id-5 div.sk-toggleable {background-color: white;}#sk-container-id-5 label.sk-toggleable__label {cursor: pointer;display: block;width: 100%;margin-bottom: 0;padding: 0.3em;box-sizing: border-box;text-align: center;}#sk-container-id-5 label.sk-toggleable__label-arrow:before {content: \"▸\";float: left;margin-right: 0.25em;color: #696969;}#sk-container-id-5 label.sk-toggleable__label-arrow:hover:before {color: black;}#sk-container-id-5 div.sk-estimator:hover label.sk-toggleable__label-arrow:before {color: black;}#sk-container-id-5 div.sk-toggleable__content {max-height: 0;max-width: 0;overflow: hidden;text-align: left;background-color: #f0f8ff;}#sk-container-id-5 div.sk-toggleable__content pre {margin: 0.2em;color: black;border-radius: 0.25em;background-color: #f0f8ff;}#sk-container-id-5 input.sk-toggleable__control:checked~div.sk-toggleable__content {max-height: 200px;max-width: 100%;overflow: auto;}#sk-container-id-5 input.sk-toggleable__control:checked~label.sk-toggleable__label-arrow:before {content: \"▾\";}#sk-container-id-5 div.sk-estimator input.sk-toggleable__control:checked~label.sk-toggleable__label {background-color: #d4ebff;}#sk-container-id-5 div.sk-label input.sk-toggleable__control:checked~label.sk-toggleable__label {background-color: #d4ebff;}#sk-container-id-5 input.sk-hidden--visually {border: 0;clip: rect(1px 1px 1px 1px);clip: rect(1px, 1px, 1px, 1px);height: 1px;margin: -1px;overflow: hidden;padding: 0;position: absolute;width: 1px;}#sk-container-id-5 div.sk-estimator {font-family: monospace;background-color: #f0f8ff;border: 1px dotted black;border-radius: 0.25em;box-sizing: border-box;margin-bottom: 0.5em;}#sk-container-id-5 div.sk-estimator:hover {background-color: #d4ebff;}#sk-container-id-5 div.sk-parallel-item::after {content: \"\";width: 100%;border-bottom: 1px solid gray;flex-grow: 1;}#sk-container-id-5 div.sk-label:hover label.sk-toggleable__label {background-color: #d4ebff;}#sk-container-id-5 div.sk-serial::before {content: \"\";position: absolute;border-left: 1px solid gray;box-sizing: border-box;top: 0;bottom: 0;left: 50%;z-index: 0;}#sk-container-id-5 div.sk-serial {display: flex;flex-direction: column;align-items: center;background-color: white;padding-right: 0.2em;padding-left: 0.2em;position: relative;}#sk-container-id-5 div.sk-item {position: relative;z-index: 1;}#sk-container-id-5 div.sk-parallel {display: flex;align-items: stretch;justify-content: center;background-color: white;position: relative;}#sk-container-id-5 div.sk-item::before, #sk-container-id-5 div.sk-parallel-item::before {content: \"\";position: absolute;border-left: 1px solid gray;box-sizing: border-box;top: 0;bottom: 0;left: 50%;z-index: -1;}#sk-container-id-5 div.sk-parallel-item {display: flex;flex-direction: column;z-index: 1;position: relative;background-color: white;}#sk-container-id-5 div.sk-parallel-item:first-child::after {align-self: flex-end;width: 50%;}#sk-container-id-5 div.sk-parallel-item:last-child::after {align-self: flex-start;width: 50%;}#sk-container-id-5 div.sk-parallel-item:only-child::after {width: 0;}#sk-container-id-5 div.sk-dashed-wrapped {border: 1px dashed gray;margin: 0 0.4em 0.5em 0.4em;box-sizing: border-box;padding-bottom: 0.4em;background-color: white;}#sk-container-id-5 div.sk-label label {font-family: monospace;font-weight: bold;display: inline-block;line-height: 1.2em;}#sk-container-id-5 div.sk-label-container {text-align: center;}#sk-container-id-5 div.sk-container {/* jupyter's `normalize.less` sets `[hidden] { display: none; }` but bootstrap.min.css set `[hidden] { display: none !important; }` so we also need the `!important` here to be able to override the default hidden behavior on the sphinx rendered scikit-learn.org. See: https://github.com/scikit-learn/scikit-learn/issues/21755 */display: inline-block !important;position: relative;}#sk-container-id-5 div.sk-text-repr-fallback {display: none;}</style><div id=\"sk-container-id-5\" class=\"sk-top-container\"><div class=\"sk-text-repr-fallback\"><pre>XGBClassifier(base_score=None, booster=None, callbacks=None,\n",
       "              colsample_bylevel=None, colsample_bynode=None,\n",
       "              colsample_bytree=None, early_stopping_rounds=None,\n",
       "              enable_categorical=False, eval_metric=None, feature_types=None,\n",
       "              gamma=None, gpu_id=0, grow_policy=None, importance_type=None,\n",
       "              interaction_constraints=None, learning_rate=None, max_bin=None,\n",
       "              max_cat_threshold=None, max_cat_to_onehot=None,\n",
       "              max_delta_step=None, max_depth=None, max_leaves=None,\n",
       "              min_child_weight=None, missing=nan, monotone_constraints=None,\n",
       "              n_estimators=100, n_jobs=None, num_parallel_tree=None,\n",
       "              predictor=None, random_state=None, ...)</pre><b>In a Jupyter environment, please rerun this cell to show the HTML representation or trust the notebook. <br />On GitHub, the HTML representation is unable to render, please try loading this page with nbviewer.org.</b></div><div class=\"sk-container\" hidden><div class=\"sk-item\"><div class=\"sk-estimator sk-toggleable\"><input class=\"sk-toggleable__control sk-hidden--visually\" id=\"sk-estimator-id-5\" type=\"checkbox\" checked><label for=\"sk-estimator-id-5\" class=\"sk-toggleable__label sk-toggleable__label-arrow\">XGBClassifier</label><div class=\"sk-toggleable__content\"><pre>XGBClassifier(base_score=None, booster=None, callbacks=None,\n",
       "              colsample_bylevel=None, colsample_bynode=None,\n",
       "              colsample_bytree=None, early_stopping_rounds=None,\n",
       "              enable_categorical=False, eval_metric=None, feature_types=None,\n",
       "              gamma=None, gpu_id=0, grow_policy=None, importance_type=None,\n",
       "              interaction_constraints=None, learning_rate=None, max_bin=None,\n",
       "              max_cat_threshold=None, max_cat_to_onehot=None,\n",
       "              max_delta_step=None, max_depth=None, max_leaves=None,\n",
       "              min_child_weight=None, missing=nan, monotone_constraints=None,\n",
       "              n_estimators=100, n_jobs=None, num_parallel_tree=None,\n",
       "              predictor=None, random_state=None, ...)</pre></div></div></div></div></div>"
      ],
      "text/plain": [
       "XGBClassifier(base_score=None, booster=None, callbacks=None,\n",
       "              colsample_bylevel=None, colsample_bynode=None,\n",
       "              colsample_bytree=None, early_stopping_rounds=None,\n",
       "              enable_categorical=False, eval_metric=None, feature_types=None,\n",
       "              gamma=None, gpu_id=0, grow_policy=None, importance_type=None,\n",
       "              interaction_constraints=None, learning_rate=None, max_bin=None,\n",
       "              max_cat_threshold=None, max_cat_to_onehot=None,\n",
       "              max_delta_step=None, max_depth=None, max_leaves=None,\n",
       "              min_child_weight=None, missing=nan, monotone_constraints=None,\n",
       "              n_estimators=100, n_jobs=None, num_parallel_tree=None,\n",
       "              predictor=None, random_state=None, ...)"
      ]
     },
     "execution_count": 96,
     "metadata": {},
     "output_type": "execute_result"
    }
   ],
   "source": [
    "model = xgb.XGBClassifier(\n",
    "    tree_method='approx', gpu_id=0,\n",
    "    scale_pos_weight=1\n",
    ")\n",
    "model.fit(X_reduced, y)"
   ]
  },
  {
   "cell_type": "code",
   "execution_count": 97,
   "id": "d364f13f",
   "metadata": {
    "id": "xikGM02DaTm2"
   },
   "outputs": [
    {
     "name": "stdout",
     "output_type": "stream",
     "text": [
      "Accuracy: 0.9927\n",
      "Precision: [0.99304681 0.91573785]\n",
      "Recall: [0.99961778 0.3724388 ]\n",
      "F1 Score: [0.99632146 0.52951792]\n"
     ]
    }
   ],
   "source": [
    "# Make predictions on the test set\n",
    "y_pred = model.predict(X_reduced)\n",
    "\n",
    "# Calculate accuracy\n",
    "accuracy = accuracy_score(y, y_pred)\n",
    "\n",
    "# Calculate precision, recall, f1 score\n",
    "prec, rec, fscore, sup = precision_recall_fscore_support(y, y_pred)\n",
    "\n",
    "print(\"Accuracy: {}\".format(accuracy))\n",
    "print(\"Precision: {}\".format(prec))\n",
    "print(\"Recall: {}\".format(rec))\n",
    "print(\"F1 Score: {}\".format(fscore))"
   ]
  },
  {
   "cell_type": "markdown",
   "id": "19ca5acc",
   "metadata": {
    "id": "7HkhF6vIYGGP"
   },
   "source": [
    "# The five  Dataset (Variant 4)"
   ]
  },
  {
   "cell_type": "markdown",
   "id": "44a92330",
   "metadata": {
    "id": "IrFXY3rYYT22"
   },
   "source": [
    "### Read dataset (Variant 4)"
   ]
  },
  {
   "cell_type": "code",
   "execution_count": 98,
   "id": "86654de2",
   "metadata": {
    "id": "ueWNBo4sYT28"
   },
   "outputs": [],
   "source": [
    "df_4 = pd.read_csv('Fraud Detection/neurips-2022/Variant IV.csv')"
   ]
  },
  {
   "cell_type": "markdown",
   "id": "47979255",
   "metadata": {
    "id": "KYAMGZExYT28"
   },
   "source": [
    "### Preprocessing"
   ]
  },
  {
   "cell_type": "code",
   "execution_count": 99,
   "id": "ba49d2a7",
   "metadata": {
    "id": "DS8I1KzFYT28",
    "outputId": "aa0c1edd-0690-40eb-9bce-b592521f5d1a"
   },
   "outputs": [
    {
     "data": {
      "text/plain": [
       "['fraud_bool',\n",
       " 'income',\n",
       " 'name_email_similarity',\n",
       " 'prev_address_months_count',\n",
       " 'current_address_months_count',\n",
       " 'customer_age',\n",
       " 'days_since_request',\n",
       " 'intended_balcon_amount',\n",
       " 'zip_count_4w',\n",
       " 'velocity_6h',\n",
       " 'velocity_24h',\n",
       " 'velocity_4w',\n",
       " 'bank_branch_count_8w',\n",
       " 'date_of_birth_distinct_emails_4w',\n",
       " 'credit_risk_score',\n",
       " 'email_is_free',\n",
       " 'phone_home_valid',\n",
       " 'phone_mobile_valid',\n",
       " 'bank_months_count',\n",
       " 'has_other_cards',\n",
       " 'proposed_credit_limit',\n",
       " 'foreign_request',\n",
       " 'session_length_in_minutes',\n",
       " 'keep_alive_session',\n",
       " 'device_distinct_emails_8w',\n",
       " 'device_fraud_count',\n",
       " 'month']"
      ]
     },
     "execution_count": 99,
     "metadata": {},
     "output_type": "execute_result"
    }
   ],
   "source": [
    "numerical_features = []\n",
    "\n",
    "for col in df_4.columns:\n",
    "    if df_4[col].dtypes =='float64' or df_4[col].dtypes =='int64':\n",
    "        numerical_features.append(col)\n",
    "\n",
    "numerical_features"
   ]
  },
  {
   "cell_type": "code",
   "execution_count": 100,
   "id": "45c6a903",
   "metadata": {
    "id": "i4t4AsL6YT29"
   },
   "outputs": [],
   "source": [
    "# Columns with missing values\n",
    "cols = ['prev_address_months_count',\n",
    "'current_address_months_count',\n",
    "'bank_months_count',\n",
    "'session_length_in_minutes',\n",
    "'device_distinct_emails_8w']\n",
    "\n",
    "# Replace -1 with NULL\n",
    "for col in cols:\n",
    "    df_4[col] = df_4[col].replace(-1, np.nan)\n",
    "\n",
    "# Replace any other missing representations with NULL\n",
    "for col in cols:\n",
    "    df_4[col] = df_4[col].replace(['NA', '()', 'none'], np.nan, regex=True)"
   ]
  },
  {
   "cell_type": "code",
   "execution_count": 101,
   "id": "c8c734fa",
   "metadata": {
    "id": "vsYgQBYCYT29"
   },
   "outputs": [],
   "source": [
    "# Replace negative values with NULL\n",
    "df_4['intended_balcon_amount'] = df_4['intended_balcon_amount'].replace([-16,-15,-14,-13,-12,-11,-10,-9,-8,-7,-6,-5,-4,-3,-2,-1], np.nan)"
   ]
  },
  {
   "cell_type": "code",
   "execution_count": 102,
   "id": "221dcf22",
   "metadata": {
    "id": "gOw_zHQnYT29"
   },
   "outputs": [],
   "source": [
    "# Columns with missing values\n",
    "cols = ['prev_address_months_count',\n",
    "'current_address_months_count',\n",
    "'bank_months_count',\n",
    "'session_length_in_minutes',\n",
    "'device_distinct_emails_8w'\n",
    "]\n",
    "\n",
    "# Median imputer\n",
    "imputer = SimpleImputer(strategy=\"median\")\n",
    "\n",
    "# Fit imputer on each column\n",
    "for col in cols:\n",
    "    imputer = imputer.fit(df_4[col].values.reshape(-1,1))\n",
    "\n",
    "# Transform data (impute nulls)\n",
    "for col in cols:\n",
    "    df_4[col] = imputer.transform(df_4[col].values.reshape(-1,1))"
   ]
  },
  {
   "cell_type": "code",
   "execution_count": 103,
   "id": "9244c676",
   "metadata": {
    "id": "OEZrI2hVYT29"
   },
   "outputs": [],
   "source": [
    "df_dumm = pd.get_dummies(df_4) # one hot encoding"
   ]
  },
  {
   "cell_type": "code",
   "execution_count": 104,
   "id": "df358241",
   "metadata": {
    "id": "fpjv55L6YT29"
   },
   "outputs": [],
   "source": [
    "# Take log of columns\n",
    "df_dumm['proposed_credit_limit'] = np.log(df_dumm['proposed_credit_limit'])\n",
    "df_dumm['days_since_request'] = np.log(df_dumm['days_since_request'])\n",
    "df_dumm['zip_count_4w'] = np.log(df_dumm['zip_count_4w'])"
   ]
  },
  {
   "cell_type": "code",
   "execution_count": 105,
   "id": "1780d01d",
   "metadata": {
    "id": "sH_3P26ZYT29"
   },
   "outputs": [],
   "source": [
    "dataset_2 = df_dumm.drop(columns='fraud_bool')"
   ]
  },
  {
   "cell_type": "code",
   "execution_count": 106,
   "id": "fb159960",
   "metadata": {
    "id": "gLsezetvYT29",
    "outputId": "70dc1e7e-6e9f-4738-85a8-9a97641ec2c3"
   },
   "outputs": [
    {
     "name": "stdout",
     "output_type": "stream",
     "text": [
      "fraud_bool\n",
      "0    0.988929\n",
      "1    0.011071\n",
      "Name: count, dtype: float64\n"
     ]
    }
   ],
   "source": [
    "# Identify features (X) and target (y)\n",
    "X = df_dumm.drop('fraud_bool', axis=1)\n",
    "y = df_dumm['fraud_bool']\n",
    "\n",
    "# Split into train and test\n",
    "X_train, X_test, y_train, y_test = train_test_split(X, y)\n",
    "\n",
    "# Check class distribution in training set\n",
    "print(y_train.value_counts()/len(y_train))"
   ]
  },
  {
   "cell_type": "code",
   "execution_count": 107,
   "id": "db0946f0",
   "metadata": {
    "id": "gQ9nG4c2YT2-"
   },
   "outputs": [
    {
     "name": "stdout",
     "output_type": "stream",
     "text": [
      "fraud_bool\n",
      "1    0.533201\n",
      "0    0.466799\n",
      "Name: count, dtype: float64\n"
     ]
    },
    {
     "name": "stderr",
     "output_type": "stream",
     "text": [
      "/opt/conda/lib/python3.9/site-packages/sklearn/linear_model/_logistic.py:458: ConvergenceWarning: lbfgs failed to converge (status=1):\n",
      "STOP: TOTAL NO. of ITERATIONS REACHED LIMIT.\n",
      "\n",
      "Increase the number of iterations (max_iter) or scale the data as shown in:\n",
      "    https://scikit-learn.org/stable/modules/preprocessing.html\n",
      "Please also refer to the documentation for alternative solver options:\n",
      "    https://scikit-learn.org/stable/modules/linear_model.html#logistic-regression\n",
      "  n_iter_i = _check_optimize_result(\n"
     ]
    },
    {
     "data": {
      "text/plain": [
       "'              precision    recall  f1-score   support\\n\\n           0       1.00      0.58      0.73    247273\\n           1       0.02      0.75      0.04      2727\\n\\n    accuracy                           0.58    250000\\n   macro avg       0.51      0.67      0.39    250000\\nweighted avg       0.98      0.58      0.73    250000\\n'"
      ]
     },
     "execution_count": 107,
     "metadata": {},
     "output_type": "execute_result"
    }
   ],
   "source": [
    "#Instantiate oversampler and logistic regression model\n",
    "randomover = RandomOverSampler(random_state=42)\n",
    "log_reg = LogisticRegression()\n",
    "\n",
    "# Instantiate samplers\n",
    "enn = SMOTEENN(random_state=42)\n",
    "\n",
    "# Apply ENN cleaning\n",
    "X_train_enn, y_train_enn = enn.fit_resample(X_train, y_train)\n",
    "\n",
    "# Check the new class distribution\n",
    "print(y_train_enn.value_counts()/len(y_train_enn))\n",
    "\n",
    "# Train a model using the oversampled training data\n",
    "log_reg.fit(X_train_enn, y_train_enn)\n",
    "\n",
    "# Make predictions on test set\n",
    "y_pred = log_reg.predict(X_test)\n",
    "\n",
    "# Generate classification report\n",
    "report = classification_report(y_test, y_pred)\n",
    "report"
   ]
  },
  {
   "cell_type": "code",
   "execution_count": 108,
   "id": "a19f14f1",
   "metadata": {
    "id": "DW2tdIiUYT2-"
   },
   "outputs": [
    {
     "name": "stdout",
     "output_type": "stream",
     "text": [
      "Accuracy: 0.584328\n",
      "Precision: 0.019515484183436054\n",
      "Recall: 0.7535753575357536\n",
      "F1 Score: 0.03804569185766653\n"
     ]
    }
   ],
   "source": [
    "accuracy_SMOTEENN = accuracy_score(y_test, y_pred)\n",
    "print(f\"Accuracy: {accuracy_SMOTEENN}\")\n",
    "\n",
    "precision_SMOTEENN = precision_score(y_test, y_pred)\n",
    "print(f\"Precision: {precision_SMOTEENN}\")\n",
    "\n",
    "recall_SMOTEENN = recall_score(y_test, y_pred)\n",
    "print(f\"Recall: {recall_SMOTEENN}\")\n",
    "\n",
    "f1_SMOTEENN = f1_score(y_test, y_pred)\n",
    "print(f\"F1 Score: {f1_SMOTEENN}\")"
   ]
  },
  {
   "cell_type": "code",
   "execution_count": 109,
   "id": "7ef589fb",
   "metadata": {
    "id": "G8W9cjFeYT2-"
   },
   "outputs": [],
   "source": [
    "#select the top 25 features\n",
    "importances = model.feature_importances_\n",
    "n_features = 25\n",
    "feature_indices = np.argsort(importances)[::-1][:n_features]\n",
    "selected_features = [X.columns[i] for i in feature_indices]"
   ]
  },
  {
   "cell_type": "code",
   "execution_count": 110,
   "id": "fc72e7be",
   "metadata": {
    "id": "S1656LbrYT2_"
   },
   "outputs": [
    {
     "name": "stdout",
     "output_type": "stream",
     "text": [
      "15\n"
     ]
    }
   ],
   "source": [
    "# Get the top 25 important features\n",
    "selected_features = [X.columns[i] for i in feature_indices[:25]]\n",
    "\n",
    "# Create a PCA model and fit it to the selected features\n",
    "pca = PCA()\n",
    "pca.fit(X[selected_features])\n",
    "\n",
    "# Transform the selected features using the fitted PCA model\n",
    "X_reduced = pca.transform(X[selected_features])\n",
    "\n",
    "# Get the proportion of variance explained\n",
    "var_exp = pca.explained_variance_ratio_\n",
    "\n",
    "# Print the number of dimensions after reduction\n",
    "print(X_reduced.shape[1])"
   ]
  },
  {
   "cell_type": "code",
   "execution_count": 111,
   "id": "2db64ad7",
   "metadata": {
    "id": "RZhqirBTYT2_"
   },
   "outputs": [],
   "source": [
    "pca = PCA(n_components=15)\n",
    "X_reduced = pca.fit_transform(X)"
   ]
  },
  {
   "cell_type": "code",
   "execution_count": 112,
   "id": "3a8c91fc",
   "metadata": {
    "id": "LuO7SY_AYT2_"
   },
   "outputs": [
    {
     "name": "stdout",
     "output_type": "stream",
     "text": [
      "Accuracy: 1.0\n",
      "Precision: [1. 1.]\n",
      "Recall: [1. 1.]\n",
      "F1 Score: [1. 1.]\n"
     ]
    }
   ],
   "source": [
    "model = ExtraTreesClassifier()\n",
    "model.fit(X_reduced, y)\n",
    "# Make predictions on the test set\n",
    "y_pred = model.predict(X_reduced)\n",
    "\n",
    "# Calculate accuracy\n",
    "accuracy = accuracy_score(y, y_pred)\n",
    "\n",
    "# Calculate precision, recall, f1 score\n",
    "prec, rec, fscore, sup = precision_recall_fscore_support(y, y_pred)\n",
    "\n",
    "print(\"Accuracy: {}\".format(accuracy))\n",
    "print(\"Precision: {}\".format(prec))\n",
    "print(\"Recall: {}\".format(rec))\n",
    "print(\"F1 Score: {}\".format(fscore))"
   ]
  },
  {
   "cell_type": "code",
   "execution_count": 113,
   "id": "4e687c36",
   "metadata": {
    "id": "6-MxNqUJaYFX"
   },
   "outputs": [
    {
     "data": {
      "text/html": [
       "<style>#sk-container-id-6 {color: black;background-color: white;}#sk-container-id-6 pre{padding: 0;}#sk-container-id-6 div.sk-toggleable {background-color: white;}#sk-container-id-6 label.sk-toggleable__label {cursor: pointer;display: block;width: 100%;margin-bottom: 0;padding: 0.3em;box-sizing: border-box;text-align: center;}#sk-container-id-6 label.sk-toggleable__label-arrow:before {content: \"▸\";float: left;margin-right: 0.25em;color: #696969;}#sk-container-id-6 label.sk-toggleable__label-arrow:hover:before {color: black;}#sk-container-id-6 div.sk-estimator:hover label.sk-toggleable__label-arrow:before {color: black;}#sk-container-id-6 div.sk-toggleable__content {max-height: 0;max-width: 0;overflow: hidden;text-align: left;background-color: #f0f8ff;}#sk-container-id-6 div.sk-toggleable__content pre {margin: 0.2em;color: black;border-radius: 0.25em;background-color: #f0f8ff;}#sk-container-id-6 input.sk-toggleable__control:checked~div.sk-toggleable__content {max-height: 200px;max-width: 100%;overflow: auto;}#sk-container-id-6 input.sk-toggleable__control:checked~label.sk-toggleable__label-arrow:before {content: \"▾\";}#sk-container-id-6 div.sk-estimator input.sk-toggleable__control:checked~label.sk-toggleable__label {background-color: #d4ebff;}#sk-container-id-6 div.sk-label input.sk-toggleable__control:checked~label.sk-toggleable__label {background-color: #d4ebff;}#sk-container-id-6 input.sk-hidden--visually {border: 0;clip: rect(1px 1px 1px 1px);clip: rect(1px, 1px, 1px, 1px);height: 1px;margin: -1px;overflow: hidden;padding: 0;position: absolute;width: 1px;}#sk-container-id-6 div.sk-estimator {font-family: monospace;background-color: #f0f8ff;border: 1px dotted black;border-radius: 0.25em;box-sizing: border-box;margin-bottom: 0.5em;}#sk-container-id-6 div.sk-estimator:hover {background-color: #d4ebff;}#sk-container-id-6 div.sk-parallel-item::after {content: \"\";width: 100%;border-bottom: 1px solid gray;flex-grow: 1;}#sk-container-id-6 div.sk-label:hover label.sk-toggleable__label {background-color: #d4ebff;}#sk-container-id-6 div.sk-serial::before {content: \"\";position: absolute;border-left: 1px solid gray;box-sizing: border-box;top: 0;bottom: 0;left: 50%;z-index: 0;}#sk-container-id-6 div.sk-serial {display: flex;flex-direction: column;align-items: center;background-color: white;padding-right: 0.2em;padding-left: 0.2em;position: relative;}#sk-container-id-6 div.sk-item {position: relative;z-index: 1;}#sk-container-id-6 div.sk-parallel {display: flex;align-items: stretch;justify-content: center;background-color: white;position: relative;}#sk-container-id-6 div.sk-item::before, #sk-container-id-6 div.sk-parallel-item::before {content: \"\";position: absolute;border-left: 1px solid gray;box-sizing: border-box;top: 0;bottom: 0;left: 50%;z-index: -1;}#sk-container-id-6 div.sk-parallel-item {display: flex;flex-direction: column;z-index: 1;position: relative;background-color: white;}#sk-container-id-6 div.sk-parallel-item:first-child::after {align-self: flex-end;width: 50%;}#sk-container-id-6 div.sk-parallel-item:last-child::after {align-self: flex-start;width: 50%;}#sk-container-id-6 div.sk-parallel-item:only-child::after {width: 0;}#sk-container-id-6 div.sk-dashed-wrapped {border: 1px dashed gray;margin: 0 0.4em 0.5em 0.4em;box-sizing: border-box;padding-bottom: 0.4em;background-color: white;}#sk-container-id-6 div.sk-label label {font-family: monospace;font-weight: bold;display: inline-block;line-height: 1.2em;}#sk-container-id-6 div.sk-label-container {text-align: center;}#sk-container-id-6 div.sk-container {/* jupyter's `normalize.less` sets `[hidden] { display: none; }` but bootstrap.min.css set `[hidden] { display: none !important; }` so we also need the `!important` here to be able to override the default hidden behavior on the sphinx rendered scikit-learn.org. See: https://github.com/scikit-learn/scikit-learn/issues/21755 */display: inline-block !important;position: relative;}#sk-container-id-6 div.sk-text-repr-fallback {display: none;}</style><div id=\"sk-container-id-6\" class=\"sk-top-container\"><div class=\"sk-text-repr-fallback\"><pre>XGBClassifier(base_score=None, booster=None, callbacks=None,\n",
       "              colsample_bylevel=None, colsample_bynode=None,\n",
       "              colsample_bytree=None, early_stopping_rounds=None,\n",
       "              enable_categorical=False, eval_metric=None, feature_types=None,\n",
       "              gamma=None, gpu_id=0, grow_policy=None, importance_type=None,\n",
       "              interaction_constraints=None, learning_rate=None, max_bin=None,\n",
       "              max_cat_threshold=None, max_cat_to_onehot=None,\n",
       "              max_delta_step=None, max_depth=None, max_leaves=None,\n",
       "              min_child_weight=None, missing=nan, monotone_constraints=None,\n",
       "              n_estimators=100, n_jobs=None, num_parallel_tree=None,\n",
       "              predictor=None, random_state=None, ...)</pre><b>In a Jupyter environment, please rerun this cell to show the HTML representation or trust the notebook. <br />On GitHub, the HTML representation is unable to render, please try loading this page with nbviewer.org.</b></div><div class=\"sk-container\" hidden><div class=\"sk-item\"><div class=\"sk-estimator sk-toggleable\"><input class=\"sk-toggleable__control sk-hidden--visually\" id=\"sk-estimator-id-6\" type=\"checkbox\" checked><label for=\"sk-estimator-id-6\" class=\"sk-toggleable__label sk-toggleable__label-arrow\">XGBClassifier</label><div class=\"sk-toggleable__content\"><pre>XGBClassifier(base_score=None, booster=None, callbacks=None,\n",
       "              colsample_bylevel=None, colsample_bynode=None,\n",
       "              colsample_bytree=None, early_stopping_rounds=None,\n",
       "              enable_categorical=False, eval_metric=None, feature_types=None,\n",
       "              gamma=None, gpu_id=0, grow_policy=None, importance_type=None,\n",
       "              interaction_constraints=None, learning_rate=None, max_bin=None,\n",
       "              max_cat_threshold=None, max_cat_to_onehot=None,\n",
       "              max_delta_step=None, max_depth=None, max_leaves=None,\n",
       "              min_child_weight=None, missing=nan, monotone_constraints=None,\n",
       "              n_estimators=100, n_jobs=None, num_parallel_tree=None,\n",
       "              predictor=None, random_state=None, ...)</pre></div></div></div></div></div>"
      ],
      "text/plain": [
       "XGBClassifier(base_score=None, booster=None, callbacks=None,\n",
       "              colsample_bylevel=None, colsample_bynode=None,\n",
       "              colsample_bytree=None, early_stopping_rounds=None,\n",
       "              enable_categorical=False, eval_metric=None, feature_types=None,\n",
       "              gamma=None, gpu_id=0, grow_policy=None, importance_type=None,\n",
       "              interaction_constraints=None, learning_rate=None, max_bin=None,\n",
       "              max_cat_threshold=None, max_cat_to_onehot=None,\n",
       "              max_delta_step=None, max_depth=None, max_leaves=None,\n",
       "              min_child_weight=None, missing=nan, monotone_constraints=None,\n",
       "              n_estimators=100, n_jobs=None, num_parallel_tree=None,\n",
       "              predictor=None, random_state=None, ...)"
      ]
     },
     "execution_count": 113,
     "metadata": {},
     "output_type": "execute_result"
    }
   ],
   "source": [
    "model = xgb.XGBClassifier(\n",
    "    tree_method='approx', gpu_id=0,\n",
    "    scale_pos_weight=1\n",
    ")\n",
    "model.fit(X_reduced, y)"
   ]
  },
  {
   "cell_type": "code",
   "execution_count": 114,
   "id": "f9657fba",
   "metadata": {
    "id": "LIIqGpboaYFX"
   },
   "outputs": [
    {
     "name": "stdout",
     "output_type": "stream",
     "text": [
      "Accuracy: 0.989194\n",
      "Precision: [0.98921017 0.92748092]\n",
      "Recall: [0.99998079 0.02203083]\n",
      "F1 Score: [0.99456632 0.04303932]\n"
     ]
    }
   ],
   "source": [
    "# Make predictions on the test set\n",
    "y_pred = model.predict(X_reduced)\n",
    "\n",
    "# Calculate accuracy\n",
    "accuracy = accuracy_score(y, y_pred)\n",
    "\n",
    "# Calculate precision, recall, f1 score\n",
    "prec, rec, fscore, sup = precision_recall_fscore_support(y, y_pred)\n",
    "\n",
    "print(\"Accuracy: {}\".format(accuracy))\n",
    "print(\"Precision: {}\".format(prec))\n",
    "print(\"Recall: {}\".format(rec))\n",
    "print(\"F1 Score: {}\".format(fscore))"
   ]
  },
  {
   "cell_type": "markdown",
   "id": "72896188",
   "metadata": {
    "id": "xqwLNMUFYKCO"
   },
   "source": [
    "# The six dataset (Variant 5)"
   ]
  },
  {
   "cell_type": "markdown",
   "id": "3ab35838",
   "metadata": {
    "id": "PMvCqyG-YWYG"
   },
   "source": [
    "### Read dataset"
   ]
  },
  {
   "cell_type": "code",
   "execution_count": 115,
   "id": "063e3e3d",
   "metadata": {
    "id": "SSzOAihSYWYM"
   },
   "outputs": [],
   "source": [
    "df_5 = pd.read_csv('Fraud Detection/neurips-2022/Variant V.csv')"
   ]
  },
  {
   "cell_type": "markdown",
   "id": "6e912c00",
   "metadata": {
    "id": "gcfIA3MXYWYM"
   },
   "source": [
    "### Preprocessing"
   ]
  },
  {
   "cell_type": "code",
   "execution_count": 116,
   "id": "f3b9b7b0",
   "metadata": {
    "id": "LvBuTsxwYWYN",
    "outputId": "aa0c1edd-0690-40eb-9bce-b592521f5d1a"
   },
   "outputs": [
    {
     "data": {
      "text/plain": [
       "['fraud_bool',\n",
       " 'income',\n",
       " 'name_email_similarity',\n",
       " 'prev_address_months_count',\n",
       " 'current_address_months_count',\n",
       " 'customer_age',\n",
       " 'days_since_request',\n",
       " 'intended_balcon_amount',\n",
       " 'zip_count_4w',\n",
       " 'velocity_6h',\n",
       " 'velocity_24h',\n",
       " 'velocity_4w',\n",
       " 'bank_branch_count_8w',\n",
       " 'date_of_birth_distinct_emails_4w',\n",
       " 'credit_risk_score',\n",
       " 'email_is_free',\n",
       " 'phone_home_valid',\n",
       " 'phone_mobile_valid',\n",
       " 'bank_months_count',\n",
       " 'has_other_cards',\n",
       " 'proposed_credit_limit',\n",
       " 'foreign_request',\n",
       " 'session_length_in_minutes',\n",
       " 'keep_alive_session',\n",
       " 'device_distinct_emails_8w',\n",
       " 'device_fraud_count',\n",
       " 'month',\n",
       " 'x1',\n",
       " 'x2']"
      ]
     },
     "execution_count": 116,
     "metadata": {},
     "output_type": "execute_result"
    }
   ],
   "source": [
    "numerical_features = []\n",
    "\n",
    "for col in df_5.columns:\n",
    "    if df_5[col].dtypes =='float64' or df_5[col].dtypes =='int64':\n",
    "        numerical_features.append(col)\n",
    "\n",
    "numerical_features"
   ]
  },
  {
   "cell_type": "code",
   "execution_count": 117,
   "id": "171b597e",
   "metadata": {
    "id": "doNZj3ppYWYN"
   },
   "outputs": [],
   "source": [
    "# Columns with missing values\n",
    "cols = ['prev_address_months_count',\n",
    "'current_address_months_count',\n",
    "'bank_months_count',\n",
    "'session_length_in_minutes',\n",
    "'device_distinct_emails_8w']\n",
    "\n",
    "# Replace -1 with NULL\n",
    "for col in cols:\n",
    "    df_5[col] = df_5[col].replace(-1, np.nan)\n",
    "\n",
    "# Replace any other missing representations with NULL\n",
    "for col in cols:\n",
    "    df_5[col] = df_5[col].replace(['NA', '()', 'none'], np.nan, regex=True)"
   ]
  },
  {
   "cell_type": "code",
   "execution_count": 118,
   "id": "8d508a8e",
   "metadata": {
    "id": "PClOAbATYWYN"
   },
   "outputs": [],
   "source": [
    "# Replace negative values with NULL\n",
    "df_5['intended_balcon_amount'] = df_5['intended_balcon_amount'].replace([-16,-15,-14,-13,-12,-11,-10,-9,-8,-7,-6,-5,-4,-3,-2,-1], np.nan)"
   ]
  },
  {
   "cell_type": "code",
   "execution_count": 119,
   "id": "924a059e",
   "metadata": {
    "id": "ogrAmYLOYWYN"
   },
   "outputs": [],
   "source": [
    "# Columns with missing values\n",
    "cols = ['prev_address_months_count',\n",
    "'current_address_months_count',\n",
    "'bank_months_count',\n",
    "'session_length_in_minutes',\n",
    "'device_distinct_emails_8w'\n",
    "]\n",
    "\n",
    "# Median imputer\n",
    "imputer = SimpleImputer(strategy=\"median\")\n",
    "\n",
    "# Fit imputer on each column\n",
    "for col in cols:\n",
    "    imputer = imputer.fit(df_5[col].values.reshape(-1,1))\n",
    "\n",
    "# Transform data (impute nulls)\n",
    "for col in cols:\n",
    "    df_5[col] = imputer.transform(df_5[col].values.reshape(-1,1))"
   ]
  },
  {
   "cell_type": "code",
   "execution_count": 120,
   "id": "f76954f0",
   "metadata": {
    "id": "kko3PZovYWYN"
   },
   "outputs": [],
   "source": [
    "df_dumm = pd.get_dummies(df_5) # one hot encoding"
   ]
  },
  {
   "cell_type": "code",
   "execution_count": 121,
   "id": "5b76352a",
   "metadata": {
    "id": "D-TSSXXTYWYN"
   },
   "outputs": [],
   "source": [
    "# Take log of columns\n",
    "df_dumm['proposed_credit_limit'] = np.log(df_dumm['proposed_credit_limit'])\n",
    "df_dumm['days_since_request'] = np.log(df_dumm['days_since_request'])\n",
    "df_dumm['zip_count_4w'] = np.log(df_dumm['zip_count_4w'])"
   ]
  },
  {
   "cell_type": "code",
   "execution_count": 122,
   "id": "5b5d60c1",
   "metadata": {
    "id": "e5yBj_11YWYN"
   },
   "outputs": [],
   "source": [
    "dataset_2 = df_dumm.drop(columns='fraud_bool')"
   ]
  },
  {
   "cell_type": "code",
   "execution_count": 123,
   "id": "d6d5d7be",
   "metadata": {
    "id": "R2j4jlRnYWYN",
    "outputId": "70dc1e7e-6e9f-4738-85a8-9a97641ec2c3"
   },
   "outputs": [
    {
     "name": "stdout",
     "output_type": "stream",
     "text": [
      "fraud_bool\n",
      "0    0.989013\n",
      "1    0.010987\n",
      "Name: count, dtype: float64\n"
     ]
    }
   ],
   "source": [
    "# Identify features (X) and target (y)\n",
    "X = df_dumm.drop('fraud_bool', axis=1)\n",
    "y = df_dumm['fraud_bool']\n",
    "\n",
    "# Split into train and test\n",
    "X_train, X_test, y_train, y_test = train_test_split(X, y)\n",
    "\n",
    "# Check class distribution in training set\n",
    "print(y_train.value_counts()/len(y_train))"
   ]
  },
  {
   "cell_type": "code",
   "execution_count": 124,
   "id": "e039b3e3",
   "metadata": {
    "id": "C5Jq-CX7YWYO"
   },
   "outputs": [
    {
     "name": "stdout",
     "output_type": "stream",
     "text": [
      "fraud_bool\n",
      "1    0.534477\n",
      "0    0.465523\n",
      "Name: count, dtype: float64\n"
     ]
    },
    {
     "name": "stderr",
     "output_type": "stream",
     "text": [
      "/opt/conda/lib/python3.9/site-packages/sklearn/linear_model/_logistic.py:458: ConvergenceWarning: lbfgs failed to converge (status=1):\n",
      "STOP: TOTAL NO. of ITERATIONS REACHED LIMIT.\n",
      "\n",
      "Increase the number of iterations (max_iter) or scale the data as shown in:\n",
      "    https://scikit-learn.org/stable/modules/preprocessing.html\n",
      "Please also refer to the documentation for alternative solver options:\n",
      "    https://scikit-learn.org/stable/modules/linear_model.html#logistic-regression\n",
      "  n_iter_i = _check_optimize_result(\n"
     ]
    },
    {
     "data": {
      "text/plain": [
       "'              precision    recall  f1-score   support\\n\\n           0       0.99      0.59      0.74    247210\\n           1       0.02      0.68      0.04      2790\\n\\n    accuracy                           0.59    250000\\n   macro avg       0.51      0.63      0.39    250000\\nweighted avg       0.98      0.59      0.73    250000\\n'"
      ]
     },
     "execution_count": 124,
     "metadata": {},
     "output_type": "execute_result"
    }
   ],
   "source": [
    "#Instantiate oversampler and logistic regression model\n",
    "randomover = RandomOverSampler(random_state=42)\n",
    "log_reg = LogisticRegression()\n",
    "\n",
    "# Instantiate samplers\n",
    "enn = SMOTEENN(random_state=42)\n",
    "\n",
    "# Apply ENN cleaning\n",
    "X_train_enn, y_train_enn = enn.fit_resample(X_train, y_train)\n",
    "\n",
    "# Check the new class distribution\n",
    "print(y_train_enn.value_counts()/len(y_train_enn))\n",
    "\n",
    "# Train a model using the oversampled training data\n",
    "log_reg.fit(X_train_enn, y_train_enn)\n",
    "\n",
    "# Make predictions on test set\n",
    "y_pred = log_reg.predict(X_test)\n",
    "\n",
    "# Generate classification report\n",
    "report = classification_report(y_test, y_pred)\n",
    "report"
   ]
  },
  {
   "cell_type": "code",
   "execution_count": 125,
   "id": "1066c33f",
   "metadata": {
    "id": "_Cu9xKvNYWYO"
   },
   "outputs": [
    {
     "name": "stdout",
     "output_type": "stream",
     "text": [
      "Accuracy: 0.586504\n",
      "Precision: 0.018275862068965518\n",
      "Recall: 0.6838709677419355\n",
      "F1 Score: 0.035600335852225024\n"
     ]
    }
   ],
   "source": [
    "accuracy_SMOTEENN = accuracy_score(y_test, y_pred)\n",
    "print(f\"Accuracy: {accuracy_SMOTEENN}\")\n",
    "\n",
    "precision_SMOTEENN = precision_score(y_test, y_pred)\n",
    "print(f\"Precision: {precision_SMOTEENN}\")\n",
    "\n",
    "recall_SMOTEENN = recall_score(y_test, y_pred)\n",
    "print(f\"Recall: {recall_SMOTEENN}\")\n",
    "\n",
    "f1_SMOTEENN = f1_score(y_test, y_pred)\n",
    "print(f\"F1 Score: {f1_SMOTEENN}\")"
   ]
  },
  {
   "cell_type": "code",
   "execution_count": 126,
   "id": "52a34795",
   "metadata": {
    "id": "hWq7xOciYWYO"
   },
   "outputs": [],
   "source": [
    "#select the top 25 features\n",
    "importances = model.feature_importances_\n",
    "n_features = 25\n",
    "feature_indices = np.argsort(importances)[::-1][:n_features]\n",
    "selected_features = [X.columns[i] for i in feature_indices]"
   ]
  },
  {
   "cell_type": "code",
   "execution_count": 127,
   "id": "2a045175",
   "metadata": {
    "id": "kTnh-ranYWYO"
   },
   "outputs": [
    {
     "name": "stdout",
     "output_type": "stream",
     "text": [
      "15\n"
     ]
    }
   ],
   "source": [
    "# Get the top 25 important features\n",
    "selected_features = [X.columns[i] for i in feature_indices[:25]]\n",
    "\n",
    "# Create a PCA model and fit it to the selected features\n",
    "pca = PCA()\n",
    "pca.fit(X[selected_features])\n",
    "\n",
    "# Transform the selected features using the fitted PCA model\n",
    "X_reduced = pca.transform(X[selected_features])\n",
    "\n",
    "# Get the proportion of variance explained\n",
    "var_exp = pca.explained_variance_ratio_\n",
    "\n",
    "# Print the number of dimensions after reduction\n",
    "print(X_reduced.shape[1])"
   ]
  },
  {
   "cell_type": "code",
   "execution_count": 128,
   "id": "08d6e6d8",
   "metadata": {
    "id": "cJnkQS3HYWYO"
   },
   "outputs": [],
   "source": [
    "pca = PCA(n_components=15)\n",
    "X_reduced = pca.fit_transform(X)"
   ]
  },
  {
   "cell_type": "code",
   "execution_count": 129,
   "id": "f67e948b",
   "metadata": {
    "id": "5VCen79aYWYO"
   },
   "outputs": [
    {
     "name": "stdout",
     "output_type": "stream",
     "text": [
      "Accuracy: 1.0\n",
      "Precision: [1. 1.]\n",
      "Recall: [1. 1.]\n",
      "F1 Score: [1. 1.]\n"
     ]
    }
   ],
   "source": [
    "model = ExtraTreesClassifier()\n",
    "model.fit(X_reduced, y)\n",
    "# Make predictions on the test set\n",
    "y_pred = model.predict(X_reduced)\n",
    "\n",
    "# Calculate accuracy\n",
    "accuracy = accuracy_score(y, y_pred)\n",
    "\n",
    "# Calculate precision, recall, f1 score\n",
    "prec, rec, fscore, sup = precision_recall_fscore_support(y, y_pred)\n",
    "\n",
    "print(\"Accuracy: {}\".format(accuracy))\n",
    "print(\"Precision: {}\".format(prec))\n",
    "print(\"Recall: {}\".format(rec))\n",
    "print(\"F1 Score: {}\".format(fscore))"
   ]
  },
  {
   "cell_type": "code",
   "execution_count": 130,
   "id": "f7df983b",
   "metadata": {
    "id": "gV6PBkY0aeRn"
   },
   "outputs": [
    {
     "data": {
      "text/html": [
       "<style>#sk-container-id-7 {color: black;background-color: white;}#sk-container-id-7 pre{padding: 0;}#sk-container-id-7 div.sk-toggleable {background-color: white;}#sk-container-id-7 label.sk-toggleable__label {cursor: pointer;display: block;width: 100%;margin-bottom: 0;padding: 0.3em;box-sizing: border-box;text-align: center;}#sk-container-id-7 label.sk-toggleable__label-arrow:before {content: \"▸\";float: left;margin-right: 0.25em;color: #696969;}#sk-container-id-7 label.sk-toggleable__label-arrow:hover:before {color: black;}#sk-container-id-7 div.sk-estimator:hover label.sk-toggleable__label-arrow:before {color: black;}#sk-container-id-7 div.sk-toggleable__content {max-height: 0;max-width: 0;overflow: hidden;text-align: left;background-color: #f0f8ff;}#sk-container-id-7 div.sk-toggleable__content pre {margin: 0.2em;color: black;border-radius: 0.25em;background-color: #f0f8ff;}#sk-container-id-7 input.sk-toggleable__control:checked~div.sk-toggleable__content {max-height: 200px;max-width: 100%;overflow: auto;}#sk-container-id-7 input.sk-toggleable__control:checked~label.sk-toggleable__label-arrow:before {content: \"▾\";}#sk-container-id-7 div.sk-estimator input.sk-toggleable__control:checked~label.sk-toggleable__label {background-color: #d4ebff;}#sk-container-id-7 div.sk-label input.sk-toggleable__control:checked~label.sk-toggleable__label {background-color: #d4ebff;}#sk-container-id-7 input.sk-hidden--visually {border: 0;clip: rect(1px 1px 1px 1px);clip: rect(1px, 1px, 1px, 1px);height: 1px;margin: -1px;overflow: hidden;padding: 0;position: absolute;width: 1px;}#sk-container-id-7 div.sk-estimator {font-family: monospace;background-color: #f0f8ff;border: 1px dotted black;border-radius: 0.25em;box-sizing: border-box;margin-bottom: 0.5em;}#sk-container-id-7 div.sk-estimator:hover {background-color: #d4ebff;}#sk-container-id-7 div.sk-parallel-item::after {content: \"\";width: 100%;border-bottom: 1px solid gray;flex-grow: 1;}#sk-container-id-7 div.sk-label:hover label.sk-toggleable__label {background-color: #d4ebff;}#sk-container-id-7 div.sk-serial::before {content: \"\";position: absolute;border-left: 1px solid gray;box-sizing: border-box;top: 0;bottom: 0;left: 50%;z-index: 0;}#sk-container-id-7 div.sk-serial {display: flex;flex-direction: column;align-items: center;background-color: white;padding-right: 0.2em;padding-left: 0.2em;position: relative;}#sk-container-id-7 div.sk-item {position: relative;z-index: 1;}#sk-container-id-7 div.sk-parallel {display: flex;align-items: stretch;justify-content: center;background-color: white;position: relative;}#sk-container-id-7 div.sk-item::before, #sk-container-id-7 div.sk-parallel-item::before {content: \"\";position: absolute;border-left: 1px solid gray;box-sizing: border-box;top: 0;bottom: 0;left: 50%;z-index: -1;}#sk-container-id-7 div.sk-parallel-item {display: flex;flex-direction: column;z-index: 1;position: relative;background-color: white;}#sk-container-id-7 div.sk-parallel-item:first-child::after {align-self: flex-end;width: 50%;}#sk-container-id-7 div.sk-parallel-item:last-child::after {align-self: flex-start;width: 50%;}#sk-container-id-7 div.sk-parallel-item:only-child::after {width: 0;}#sk-container-id-7 div.sk-dashed-wrapped {border: 1px dashed gray;margin: 0 0.4em 0.5em 0.4em;box-sizing: border-box;padding-bottom: 0.4em;background-color: white;}#sk-container-id-7 div.sk-label label {font-family: monospace;font-weight: bold;display: inline-block;line-height: 1.2em;}#sk-container-id-7 div.sk-label-container {text-align: center;}#sk-container-id-7 div.sk-container {/* jupyter's `normalize.less` sets `[hidden] { display: none; }` but bootstrap.min.css set `[hidden] { display: none !important; }` so we also need the `!important` here to be able to override the default hidden behavior on the sphinx rendered scikit-learn.org. See: https://github.com/scikit-learn/scikit-learn/issues/21755 */display: inline-block !important;position: relative;}#sk-container-id-7 div.sk-text-repr-fallback {display: none;}</style><div id=\"sk-container-id-7\" class=\"sk-top-container\"><div class=\"sk-text-repr-fallback\"><pre>XGBClassifier(base_score=None, booster=None, callbacks=None,\n",
       "              colsample_bylevel=None, colsample_bynode=None,\n",
       "              colsample_bytree=None, early_stopping_rounds=None,\n",
       "              enable_categorical=False, eval_metric=None, feature_types=None,\n",
       "              gamma=None, gpu_id=0, grow_policy=None, importance_type=None,\n",
       "              interaction_constraints=None, learning_rate=None, max_bin=None,\n",
       "              max_cat_threshold=None, max_cat_to_onehot=None,\n",
       "              max_delta_step=None, max_depth=None, max_leaves=None,\n",
       "              min_child_weight=None, missing=nan, monotone_constraints=None,\n",
       "              n_estimators=100, n_jobs=None, num_parallel_tree=None,\n",
       "              predictor=None, random_state=None, ...)</pre><b>In a Jupyter environment, please rerun this cell to show the HTML representation or trust the notebook. <br />On GitHub, the HTML representation is unable to render, please try loading this page with nbviewer.org.</b></div><div class=\"sk-container\" hidden><div class=\"sk-item\"><div class=\"sk-estimator sk-toggleable\"><input class=\"sk-toggleable__control sk-hidden--visually\" id=\"sk-estimator-id-7\" type=\"checkbox\" checked><label for=\"sk-estimator-id-7\" class=\"sk-toggleable__label sk-toggleable__label-arrow\">XGBClassifier</label><div class=\"sk-toggleable__content\"><pre>XGBClassifier(base_score=None, booster=None, callbacks=None,\n",
       "              colsample_bylevel=None, colsample_bynode=None,\n",
       "              colsample_bytree=None, early_stopping_rounds=None,\n",
       "              enable_categorical=False, eval_metric=None, feature_types=None,\n",
       "              gamma=None, gpu_id=0, grow_policy=None, importance_type=None,\n",
       "              interaction_constraints=None, learning_rate=None, max_bin=None,\n",
       "              max_cat_threshold=None, max_cat_to_onehot=None,\n",
       "              max_delta_step=None, max_depth=None, max_leaves=None,\n",
       "              min_child_weight=None, missing=nan, monotone_constraints=None,\n",
       "              n_estimators=100, n_jobs=None, num_parallel_tree=None,\n",
       "              predictor=None, random_state=None, ...)</pre></div></div></div></div></div>"
      ],
      "text/plain": [
       "XGBClassifier(base_score=None, booster=None, callbacks=None,\n",
       "              colsample_bylevel=None, colsample_bynode=None,\n",
       "              colsample_bytree=None, early_stopping_rounds=None,\n",
       "              enable_categorical=False, eval_metric=None, feature_types=None,\n",
       "              gamma=None, gpu_id=0, grow_policy=None, importance_type=None,\n",
       "              interaction_constraints=None, learning_rate=None, max_bin=None,\n",
       "              max_cat_threshold=None, max_cat_to_onehot=None,\n",
       "              max_delta_step=None, max_depth=None, max_leaves=None,\n",
       "              min_child_weight=None, missing=nan, monotone_constraints=None,\n",
       "              n_estimators=100, n_jobs=None, num_parallel_tree=None,\n",
       "              predictor=None, random_state=None, ...)"
      ]
     },
     "execution_count": 130,
     "metadata": {},
     "output_type": "execute_result"
    }
   ],
   "source": [
    "model = xgb.XGBClassifier(\n",
    "    tree_method='approx', gpu_id=0,\n",
    "    scale_pos_weight=1\n",
    ")\n",
    "model.fit(X_reduced, y)"
   ]
  },
  {
   "cell_type": "code",
   "execution_count": 131,
   "id": "c41f82e0",
   "metadata": {
    "id": "FtuIwOa-aeRn"
   },
   "outputs": [
    {
     "name": "stdout",
     "output_type": "stream",
     "text": [
      "Accuracy: 0.991847\n",
      "Precision: [0.99206035 0.9285076 ]\n",
      "Recall: [0.99975732 0.28259293]\n",
      "F1 Score: [0.99589396 0.43330785]\n"
     ]
    }
   ],
   "source": [
    "# Make predictions on the test set\n",
    "y_pred = model.predict(X_reduced)\n",
    "\n",
    "# Calculate accuracy\n",
    "accuracy = accuracy_score(y, y_pred)\n",
    "\n",
    "# Calculate precision, recall, f1 score\n",
    "prec, rec, fscore, sup = precision_recall_fscore_support(y, y_pred)\n",
    "\n",
    "print(\"Accuracy: {}\".format(accuracy))\n",
    "print(\"Precision: {}\".format(prec))\n",
    "print(\"Recall: {}\".format(rec))\n",
    "print(\"F1 Score: {}\".format(fscore))"
   ]
  },
  {
   "cell_type": "code",
   "execution_count": null,
   "id": "a208a742",
   "metadata": {},
   "outputs": [],
   "source": []
  },
  {
   "cell_type": "code",
   "execution_count": null,
   "id": "e79b9a90",
   "metadata": {},
   "outputs": [],
   "source": []
  }
 ],
 "metadata": {
  "colab": {
   "provenance": []
  },
  "kernelspec": {
   "display_name": "Python 3 (ipykernel)",
   "language": "python",
   "name": "python3"
  },
  "language_info": {
   "codemirror_mode": {
    "name": "ipython",
    "version": 3
   },
   "file_extension": ".py",
   "mimetype": "text/x-python",
   "name": "python",
   "nbconvert_exporter": "python",
   "pygments_lexer": "ipython3",
   "version": "3.9.16"
  }
 },
 "nbformat": 4,
 "nbformat_minor": 5
}
